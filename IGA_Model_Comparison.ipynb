{
 "cells": [
  {
   "cell_type": "markdown",
   "metadata": {},
   "source": [
    "# Evaluating Multiple Models for IGA\n",
    "by Frank M Gonzales, P.E.\n",
    "\n",
    "##  Introduction\n",
    "\n",
    "The purpose of this notebook is to compare the performance of machine learning models that produce electric load forecasts for the IGA demonstration location *Kimball Substation*.  We use SCADA, Weather, & Econometric data for nine circuits to fit and evaluate the following models:\n",
    "\n",
    "1. A ARIMA Model with Regressors (AutoRegressive Integraged Moving Average)\n",
    "1. A Exponential Smoothing State Space Model\n",
    "1. A Neural Network model\n",
    "1. A TBATS Model (Exp. smoothing state space model with Box-Cox transformation, ARMA errors, Trend and Seasonal components)\n",
    "1. A BATS model (Exp. smoothing state space model with Box-Cox transformation, ARMA errors, Trend and Seasonal components)\n",
    "1. A STL Model (Seasonally adjusted)\n",
    "1. A STS Model (Structural Time Series)\n",
    "1. A Naive Model\n",
    "1. A linear model using all variables\n",
    "1. A linear model after variable selection\n",
    "1. A Gradient Boosting Machine (GBM) model \n",
    "1. A General Additive model using Prophet\n",
    "1. A TensorFlow RNN Model\n",
    "\n",
    "\n",
    "\n",
    "## Outline\n",
    "\n",
    "- [Introduction](#Introduction)\n",
    "- [Prepare Data](#Prepare-Data)\n",
    "- [Fit Models](#Fit-Models)\n",
    "   - [Linear Model](#Linear-Model)\n",
    "   - [Linear Model with Feature Selection](#Linear-Model-with-Feature-Selection)\n",
    "   - [Gradient Boosting Machine Regression Model](#Gradient-Boosting-Machine-Regression-Model)\n",
    "- [Conclusion](#Conclusion)"
   ]
  },
  {
   "cell_type": "markdown",
   "metadata": {},
   "source": [
    "## Prepare Data\n",
    "\n",
    "We'll start by loading the `iga` data:"
   ]
  },
  {
   "cell_type": "code",
   "execution_count": 1,
   "metadata": {},
   "outputs": [
    {
     "name": "stderr",
     "output_type": "stream",
     "text": [
      "Warning message:\n",
      "\"package 'tidyverse' was built under R version 3.5.3\"-- Attaching packages --------------------------------------- tidyverse 1.2.1 --\n",
      "v ggplot2 3.1.1       v purrr   0.3.2  \n",
      "v tibble  2.1.1       v dplyr   0.8.0.1\n",
      "v tidyr   0.8.3       v stringr 1.4.0  \n",
      "v readr   1.3.1       v forcats 0.4.0  \n",
      "Warning message:\n",
      "\"package 'ggplot2' was built under R version 3.5.3\"Warning message:\n",
      "\"package 'readr' was built under R version 3.5.3\"Warning message:\n",
      "\"package 'dplyr' was built under R version 3.5.3\"-- Conflicts ------------------------------------------ tidyverse_conflicts() --\n",
      "x dplyr::filter() masks stats::filter()\n",
      "x dplyr::lag()    masks stats::lag()\n",
      "Warning message:\n",
      "\"package 'lubridate' was built under R version 3.5.3\"\n",
      "Attaching package: 'lubridate'\n",
      "\n",
      "The following object is masked from 'package:base':\n",
      "\n",
      "    date\n",
      "\n",
      "Warning message:\n",
      "\"package 'gbm' was built under R version 3.5.3\"Loaded gbm 2.1.5\n"
     ]
    }
   ],
   "source": [
    "library(tidyverse)\n",
    "library(lubridate)\n",
    "library(ggplot2)\n",
    "library(gbm)\n"
   ]
  },
  {
   "cell_type": "code",
   "execution_count": 8,
   "metadata": {},
   "outputs": [
    {
     "name": "stderr",
     "output_type": "stream",
     "text": [
      "-- Attaching packages --------------------------------------- tidyverse 1.2.1 --\n",
      "v ggplot2 3.1.1       v purrr   0.3.2  \n",
      "v tibble  2.1.1       v dplyr   0.8.0.1\n",
      "v tidyr   0.8.3       v stringr 1.4.0  \n",
      "v ggplot2 3.1.1       v forcats 0.4.0  \n",
      "-- Conflicts ------------------------------------------ tidyverse_conflicts() --\n",
      "x dplyr::filter() masks stats::filter()\n",
      "x dplyr::lag()    masks stats::lag()\n"
     ]
    },
    {
     "ename": "ERROR",
     "evalue": "Error in library(gridExtra): there is no package called 'gridExtra'\n",
     "output_type": "error",
     "traceback": [
      "Error in library(gridExtra): there is no package called 'gridExtra'\nTraceback:\n",
      "1. library(gridExtra)",
      "2. stop(txt, domain = NA)"
     ]
    }
   ],
   "source": [
    "\n",
    "\n",
    "\n",
    "setwd(\"~/GIT/epic-iga\")\n",
    "\n",
    "wn <- fread(\"data/wn_station.csv\")\n",
    "head(wn)\n",
    "wn.hourly <- fread(\"data/wn_hourly.csv\")\n",
    "head(wn)\n",
    "\n",
    "wn.dt<-data.table(as.POSIXct(wn.hourly$hourly_data_date,format=\"%m/%d/%Y %H:%M\"),\n",
    "                  wn.hourly$amb_tmp_qty,\n",
    "                  wn.hourly$dw_pnt_tmp_qty,\n",
    "                  wn.hourly$rltv_hum_qty,\n",
    "                  wn.hourly$wet_bulb_tmp_qty,\n",
    "                  wn.hourly$hz_wnd_sp_qty,\n",
    "                  wn.hourly$res_wnd_sp_qty,\n",
    "                  wn.hourly$wnd_dir_qty,\n",
    "                  wn.hourly$pk_wnd_sp_qty,\n",
    "                  wn.hourly$pk_wnd_sp_time,\n",
    "                  wn.hourly$wnd_dir_pksp_qty,\n",
    "                  wn.hourly$solar_rdtn_qty,\n",
    "                  wn.hourly$stn_br_prsur_qty,\n",
    "                  wn.hourly$sl_br_prsur_qty,\n",
    "                  wn.hourly$acc_prcp_qty)\n",
    "\n",
    "names(wn.dt)<-c(\"reporteddttm\",\"Temperature\",\"Dew_Point\",\"Relative_Humidity\",\"WB_Temp\",\n",
    "                 \"Hz_Wind_Speed\", \"Wind_Speed\", \"Wind_Direction\", \"Pk_Wind\",\n",
    "                 \"Pk_Wind_Time\", \"Wind_Dir_PkSp\",\"Solar_Radiation\", \"Br_Pressure\",\n",
    "                 \"Sl_Br_Pressure\", \"Accum_Precip\")\n",
    "\n",
    "wn.dt.temp=xts(wn.dt$Temperature,wn.dt$reporteddttm)\n",
    "dygraph(wn.dt.temp) %>% dyRangeSelector()\n",
    "\n",
    "#--------------------------------------------------------------------------------------\n",
    "# KIMBALL CIRCUIT\n",
    "# CKT_NUM\tCKT_NAM\n",
    "# 01749\t  Blackwidow\n",
    "# 06666\t  Fortress\t\n",
    "# 06451\t  Hellcat\t\t\n",
    "# 09721\t  Kingcobra\n",
    "# 12226\t  Mosquito\t\n",
    "# 16497\t  Skytrain\t\n",
    "# 17862\t  Tigercat\t\n",
    "# 18636\t  Vengeance\n",
    "# 19014\t  Warhawk    \n",
    "#--------------------------------------------------------------------------------------\n",
    "scada <- fread(\"data/cleansed_profiles.csv\")\n",
    "head(scada)\n",
    "\n",
    "scada.blackwidow <- scada %>%\n",
    "  filter(power_system_resourceid==as.numeric(01749))\n",
    "scada.fortress <- scada %>%\n",
    "  filter(power_system_resourceid==as.numeric(06666))\n",
    "scada.hellcat <- scada %>%\n",
    "  filter(power_system_resourceid==as.numeric(06451))\n",
    "scada.kingcobra <- scada %>%\n",
    "  filter(power_system_resourceid==as.numeric(09721))\n",
    "scada.mosquito <- scada %>%\n",
    "  filter(power_system_resourceid==as.numeric(12226))\n",
    "scada.skytrain <- scada %>%\n",
    "  filter(power_system_resourceid==as.numeric(16497))\n",
    "scada.tigercat <- scada %>%\n",
    "  filter(power_system_resourceid==as.numeric(17862))\n",
    "scada.vengeance <- scada %>%\n",
    "  filter(power_system_resourceid==as.numeric(18636))\n",
    "scada.warhawk <- scada %>%\n",
    "  filter(power_system_resourceid==as.numeric(19014))\n",
    "\n",
    "#=========================================================================\n",
    "scada.warhawk.kw<- scada.warhawk %>% filter(unit==\"KW\")\n",
    "scada.warhawk.kw<- mutate (\n",
    "  scada.warhawk.kw,\n",
    "  reporteddttm= as.POSIXct(scada.warhawk.kw$interval_time,format=\"%Y-%m-%d %H:%M:%OS\") # parse date column using lubridate ymd_hms function\n",
    ")\n",
    "setorder(scada.warhawk.kw,reporteddttm)\n",
    "scada.warhawk.kw<-na.omit(scada.warhawk.kw, cols=seq_along(scada.warhawk.kw), invert=FALSE)\n",
    "scada.warhawk.kw<-as.data.table(scada.warhawk.kw)\n",
    "setkey(scada.warhawk.kw, \"reporteddttm\")\n",
    "unique(scada.warhawk.kw)\n",
    "\n",
    "#graph kw\n",
    "#dygraph(xts(scada.warhawk.kw$value,scada.warhawk.kw$reporteddttm)) %>% dyRangeSelector()\n",
    "#=========================================================================\n",
    "scada.vengeance.kw<- scada.vengeance %>% filter(unit==\"KW\")\n",
    "scada.vengeance.kw<- mutate (\n",
    "  scada.vengeance.kw,\n",
    "  reporteddttm = as.POSIXct(scada.vengeance.kw$interval_time,format=\"%Y-%m-%d %H:%M:%OS\"))\n",
    "\n",
    "setorder(scada.vengeance.kw,reporteddttm)\n",
    "scada.vengeance.kw<-na.omit(scada.vengeance.kw, cols=seq_along(scada.vengeance.kw), invert=FALSE)\n",
    "scada.vengeance.kw<-as.data.table(scada.vengeance.kw)\n",
    "setkey(scada.vengeance.kw, \"reporteddttm\")\n",
    "unique(scada.vengeance.kw)\n",
    "\n",
    "#dygraph(xts(scada.vengeance.kw$value,scada.vengeance.kw$reporteddttm)) %>% dyRangeSelector()\n",
    "#=========================================================================\n",
    "scada.tigercat.kw<- scada.tigercat %>% filter(unit==\"KW\")\n",
    "scada.tigercat.kw<- mutate (\n",
    "  scada.tigercat.kw,\n",
    "  reporteddttm = as.POSIXct(scada.tigercat.kw$interval_time,format=\"%Y-%m-%d %H:%M:%OS\"))\n",
    "\n",
    "setorder(scada.tigercat.kw,reporteddttm)\n",
    "scada.tigercat.kw<-na.omit(scada.tigercat.kw, cols=seq_along(scada.tigercat.kw), invert=FALSE)\n",
    "scada.tigercat.kw<-as.data.table(scada.tigercat.kw)\n",
    "setkey(scada.tigercat.kw, \"reporteddttm\")\n",
    "unique(scada.tigercat.kw)\n",
    "\n",
    "#dygraph(xts(scada.tigercat.kw$value,scada.tigercat.kw$reporteddttm)) %>% dyRangeSelector()\n",
    "#=========================================================================\n",
    "scada.skytrain.kw<- scada.skytrain %>% filter(unit==\"KW\")\n",
    "scada.skytrain.kw<- mutate (\n",
    "  scada.skytrain.kw,\n",
    "  reporteddttm = as.POSIXct(scada.skytrain.kw$interval_time,format=\"%Y-%m-%d %H:%M:%OS\"))\n",
    "\n",
    "setorder(scada.skytrain.kw,reporteddttm)\n",
    "scada.skytrain.kw<-na.omit(scada.skytrain.kw, cols=seq_along(scada.skytrain.kw), invert=FALSE)\n",
    "scada.skytrain.kw<-as.data.table(scada.skytrain.kw)\n",
    "setkey(scada.skytrain.kw, \"reporteddttm\")\n",
    "unique(scada.skytrain.kw)\n",
    "\n",
    "#dygraph(xts(scada.skytrain.kw$value,scada.skytrain.kw$reporteddttm)) %>% dyRangeSelector()\n",
    "#=========================================================================\n",
    "scada.mosquito.kw<- scada.mosquito %>% filter(unit==\"KW\")\n",
    "scada.mosquito.kw<- mutate (\n",
    "  scada.mosquito.kw,\n",
    "  reporteddttm = as.POSIXct(scada.mosquito.kw$interval_time,format=\"%Y-%m-%d %H:%M:%OS\"))\n",
    "\n",
    "setorder(scada.mosquito.kw,reporteddttm)\n",
    "scada.mosquito.kw<-na.omit(scada.mosquito.kw, cols=seq_along(scada.mosquito.kw), invert=FALSE)\n",
    "scada.mosquito.kw<-as.data.table(scada.mosquito.kw)\n",
    "setkey(scada.mosquito.kw, \"reporteddttm\")\n",
    "unique(scada.mosquito.kw)\n",
    "\n",
    "#dygraph(xts(scada.mosquito.kw$value,scada.mosquito.kw$reporteddttm)) %>% dyRangeSelector()\n",
    "#=========================================================================\n",
    "scada.kingcobra.kw<- scada.kingcobra %>% filter(unit==\"KW\")\n",
    "scada.kingcobra.kw<- mutate (\n",
    "  scada.kingcobra.kw,\n",
    "  reporteddttm = as.POSIXct(scada.kingcobra.kw$interval_time,format=\"%Y-%m-%d %H:%M:%OS\"))\n",
    "\n",
    "setorder(scada.kingcobra.kw,reporteddttm)\n",
    "scada.kingcobra.kw<-na.omit(scada.kingcobra.kw, cols=seq_along(scada.kingcobra.kw), invert=FALSE)\n",
    "scada.kingcobra.kw<-as.data.table(scada.kingcobra.kw)\n",
    "setkey(scada.kingcobra.kw, \"reporteddttm\")\n",
    "unique(scada.kingcobra.kw)\n",
    "\n",
    "#dygraph(xts(scada.kingcobra.kw$value,scada.kingcobra.kw$reporteddttm)) %>% dyRangeSelector()\n",
    "#=========================================================================\n",
    "scada.hellcat.kw<- scada.hellcat %>% filter(unit==\"KW\")\n",
    "scada.hellcat.kw<- mutate (\n",
    "  scada.hellcat.kw,\n",
    "  reporteddttm = as.POSIXct(scada.hellcat.kw$interval_time,format=\"%Y-%m-%d %H:%M:%OS\"))\n",
    "\n",
    "setorder(scada.hellcat.kw,reporteddttm)\n",
    "scada.hellcat.kw<-na.omit(scada.hellcat.kw, cols=seq_along(scada.hellcat.kw), invert=FALSE)\n",
    "scada.hellcat.kw<-as.data.table(scada.hellcat.kw)\n",
    "setkey(scada.hellcat.kw, \"reporteddttm\")\n",
    "unique(scada.hellcat.kw)\n",
    "\n",
    "#dygraph(xts(scada.hellcat.kw$value,scada.hellcat.kw$reporteddttm)) %>% dyRangeSelector()\n",
    "#=========================================================================\n",
    "scada.fortress.kw<- scada.fortress %>% filter(unit==\"KW\")\n",
    "scada.fortress.kw<- mutate (\n",
    "  scada.fortress.kw,\n",
    "  reporteddttm = as.POSIXct(scada.fortress.kw$interval_time,format=\"%Y-%m-%d %H:%M:%OS\"))\n",
    "\n",
    "setorder(scada.fortress.kw,reporteddttm)\n",
    "scada.fortress.kw<-na.omit(scada.fortress.kw, cols=seq_along(scada.fortress.kw), invert=FALSE)\n",
    "scada.fortress.kw<-as.data.table(scada.fortress.kw)\n",
    "setkey(scada.fortress.kw, \"reporteddttm\")\n",
    "unique(scada.fortress.kw)\n",
    "\n",
    "#dygraph(xts(scada.fortress.kw$value,scada.fortress.kw$reporteddttm), main = \"Fortress SCADA (kW)\") %>% dyRangeSelector()\n",
    "#=========================================================================\n",
    "scada.blackwidow.kw<- scada.blackwidow %>% filter(unit==\"KW\")\n",
    "scada.blackwidow.kw<- mutate (\n",
    "  scada.blackwidow.kw,\n",
    "  reporteddttm = as.POSIXct(scada.blackwidow.kw$interval_time,format=\"%Y-%m-%d %H:%M:%OS\"))\n",
    "\n",
    "setorder(scada.blackwidow.kw,reporteddttm)\n",
    "scada.blackwidow.kw<-na.omit(scada.blackwidow.kw, cols=seq_along(scada.blackwidow.kw), invert=FALSE)\n",
    "scada.blackwidow.kw<-as.data.table(scada.blackwidow.kw)\n",
    "setkey(scada.blackwidow.kw, \"reporteddttm\")\n",
    "unique(scada.blackwidow.kw)\n",
    "library(readr)\n",
    "wn <- read_csv(\"~/GIT/epic-iga/data/weatherNet_hourly.csv\")\n",
    "data(wn)"
   ]
  },
  {
   "cell_type": "code",
   "execution_count": 2,
   "metadata": {},
   "outputs": [
    {
     "name": "stderr",
     "output_type": "stream",
     "text": [
      "Warning message:\n",
      "\"Missing column names filled in: 'X1' [1]\"Parsed with column specification:\n",
      "cols(\n",
      "  .default = col_double(),\n",
      "  unit = col_character(),\n",
      "  interval_time = col_datetime(format = \"\"),\n",
      "  batch_time = col_datetime(format = \"\"),\n",
      "  node_key = col_character(),\n",
      "  reporteddttm = col_datetime(format = \"\")\n",
      ")\n",
      "See spec(...) for full column specifications.\n",
      "Warning message:\n",
      "\"Missing column names filled in: 'X1' [1]\"Parsed with column specification:\n",
      "cols(\n",
      "  .default = col_double(),\n",
      "  unit = col_character(),\n",
      "  interval_time = col_datetime(format = \"\"),\n",
      "  batch_time = col_datetime(format = \"\"),\n",
      "  node_key = col_character(),\n",
      "  reporteddttm = col_datetime(format = \"\")\n",
      ")\n",
      "See spec(...) for full column specifications.\n",
      "Warning message:\n",
      "\"Missing column names filled in: 'X1' [1]\"Parsed with column specification:\n",
      "cols(\n",
      "  .default = col_double(),\n",
      "  unit = col_character(),\n",
      "  interval_time = col_datetime(format = \"\"),\n",
      "  batch_time = col_datetime(format = \"\"),\n",
      "  node_key = col_character(),\n",
      "  reporteddttm = col_datetime(format = \"\")\n",
      ")\n",
      "See spec(...) for full column specifications.\n",
      "Warning message:\n",
      "\"Missing column names filled in: 'X1' [1]\"Parsed with column specification:\n",
      "cols(\n",
      "  .default = col_double(),\n",
      "  unit = col_character(),\n",
      "  interval_time = col_datetime(format = \"\"),\n",
      "  batch_time = col_datetime(format = \"\"),\n",
      "  node_key = col_character(),\n",
      "  reporteddttm = col_datetime(format = \"\")\n",
      ")\n",
      "See spec(...) for full column specifications.\n",
      "Warning message:\n",
      "\"Missing column names filled in: 'X1' [1]\"Parsed with column specification:\n",
      "cols(\n",
      "  .default = col_double(),\n",
      "  unit = col_character(),\n",
      "  interval_time = col_datetime(format = \"\"),\n",
      "  batch_time = col_datetime(format = \"\"),\n",
      "  node_key = col_character(),\n",
      "  reporteddttm = col_datetime(format = \"\")\n",
      ")\n",
      "See spec(...) for full column specifications.\n",
      "Warning message:\n",
      "\"Missing column names filled in: 'X1' [1]\"Parsed with column specification:\n",
      "cols(\n",
      "  .default = col_double(),\n",
      "  unit = col_character(),\n",
      "  interval_time = col_datetime(format = \"\"),\n",
      "  batch_time = col_datetime(format = \"\"),\n",
      "  node_key = col_character(),\n",
      "  reporteddttm = col_datetime(format = \"\")\n",
      ")\n",
      "See spec(...) for full column specifications.\n",
      "Warning message:\n",
      "\"Missing column names filled in: 'X1' [1]\"Parsed with column specification:\n",
      "cols(\n",
      "  .default = col_double(),\n",
      "  unit = col_character(),\n",
      "  interval_time = col_datetime(format = \"\"),\n",
      "  batch_time = col_datetime(format = \"\"),\n",
      "  node_key = col_character(),\n",
      "  reporteddttm = col_datetime(format = \"\")\n",
      ")\n",
      "See spec(...) for full column specifications.\n",
      "Warning message:\n",
      "\"Missing column names filled in: 'X1' [1]\"Parsed with column specification:\n",
      "cols(\n",
      "  .default = col_double(),\n",
      "  unit = col_character(),\n",
      "  interval_time = col_datetime(format = \"\"),\n",
      "  batch_time = col_datetime(format = \"\"),\n",
      "  node_key = col_character(),\n",
      "  reporteddttm = col_datetime(format = \"\")\n",
      ")\n",
      "See spec(...) for full column specifications.\n",
      "Warning message:\n",
      "\"Missing column names filled in: 'X1' [1]\"Parsed with column specification:\n",
      "cols(\n",
      "  .default = col_double(),\n",
      "  unit = col_character(),\n",
      "  interval_time = col_datetime(format = \"\"),\n",
      "  batch_time = col_datetime(format = \"\"),\n",
      "  node_key = col_character(),\n",
      "  reporteddttm = col_datetime(format = \"\")\n",
      ")\n",
      "See spec(...) for full column specifications.\n"
     ]
    }
   ],
   "source": [
    "iga_blackwidow <- read_csv(\"~/GIT/epic-iga/data/final/iga.blackwidow.csv\")\n",
    "iga_fortress <- read_csv(\"~/GIT/epic-iga/data/final/iga.fortress.csv\")\n",
    "iga_hellcat <- read_csv(\"~/GIT/epic-iga/data/final/iga.hellcat.csv\")\n",
    "iga_kingcobra <- read_csv(\"~/GIT/epic-iga/data/final/iga.kingcobra.csv\")\n",
    "iga_mosquito <- read_csv(\"~/GIT/epic-iga/data/final/iga.mosquito.csv\")\n",
    "iga_skytrain <- read_csv(\"~/GIT/epic-iga/data/final/iga.skytrain.csv\")\n",
    "iga_tigercat <- read_csv(\"~/GIT/epic-iga/data/final/iga.tigercat.csv\")\n",
    "iga_vengeance <- read_csv(\"~/GIT/epic-iga/data/final/iga.vengeance.csv\")\n",
    "iga_warhawk <- read_csv(\"~/GIT/epic-iga/data/final/iga.warhawk.csv\")"
   ]
  },
  {
   "cell_type": "markdown",
   "metadata": {},
   "source": [
    "There are sixteen features included in the dataset:\n",
    "1. `amb_tmp_qty`, ambient temperature\n",
    "1. `dw_pnt_tmp_qty`, dew point\n",
    "1. `rltv_hum_qty`, relative humidity\n",
    "1. `wet_bulb_tmp_qty`, wet bulb temperature\n",
    "1. `hz_wnd_sp_qty`, hi-wind speed\n",
    "1. `res_wnd_sp_qty`, wind speed\n",
    "1. `wnd_dir_qty`, wind direction\n",
    "1. `pk_wnd_sp_qty`, peak wind speed\n",
    "1. `pk_wnd_sp_time`, peak wind speed time\n",
    "1. `wnd_dir_pksp_qty`, peak wind speed direction\n",
    "1. `solar_rdtn_qty`, solar radiation\n",
    "1. `stn_br_prsur_qty`, station barometric pressure\n",
    "1. `sl_br_prsur_qty`, barometric pressure\n",
    "1. `acc_prcp_qty`, accumulated precipitation\n",
    "\n",
    "A summary of their distributions and the first few records are shown below:"
   ]
  },
  {
   "cell_type": "code",
   "execution_count": 17,
   "metadata": {},
   "outputs": [
    {
     "data": {
      "text/plain": [
       "       X1        power_system_resourceid     value             unit          \n",
       " Min.   :    1   Min.   :6666            Min.   :  371.7   Length:70038      \n",
       " 1st Qu.:17510   1st Qu.:6666            1st Qu.: 2354.1   Class :character  \n",
       " Median :35020   Median :6666            Median : 2891.1   Mode  :character  \n",
       " Mean   :35020   Mean   :6666            Mean   : 3164.9                     \n",
       " 3rd Qu.:52529   3rd Qu.:6666            3rd Qu.: 3696.4                     \n",
       " Max.   :70038   Max.   :6666            Max.   :12307.6                     \n",
       " interval_time                   batch_time                    node_key        \n",
       " Min.   :2011-01-01 01:00:00   Min.   :2018-08-18 13:40:11   Length:70038      \n",
       " 1st Qu.:2013-01-27 04:15:00   1st Qu.:2018-08-18 13:41:13   Class :character  \n",
       " Median :2015-01-18 00:00:00   Median :2018-08-18 13:41:15   Mode  :character  \n",
       " Mean   :2014-12-29 07:24:08   Mean   :2018-08-28 00:10:17                     \n",
       " 3rd Qu.:2016-12-03 13:00:00   3rd Qu.:2018-08-18 13:42:16                     \n",
       " Max.   :2018-07-29 07:00:00   Max.   :2018-11-01 00:00:18                     \n",
       "      year       reporteddttm                  Temperature       Dew_Point     \n",
       " Min.   :2011   Min.   :2011-01-01 01:00:00   Min.   : 34.38   Min.   :-5.614  \n",
       " 1st Qu.:2013   1st Qu.:2013-01-27 04:15:00   1st Qu.: 57.24   1st Qu.:37.490  \n",
       " Median :2015   Median :2015-01-18 00:00:00   Median : 63.86   Median :48.620  \n",
       " Mean   :2015   Mean   :2014-12-29 07:24:08   Mean   : 65.46   Mean   :44.836  \n",
       " 3rd Qu.:2016   3rd Qu.:2016-12-03 13:00:00   3rd Qu.: 72.80   3rd Qu.:54.830  \n",
       " Max.   :2018   Max.   :2018-07-29 07:00:00   Max.   :112.90   Max.   :71.500  \n",
       " Relative_Humidity    WB_Temp      Hz_Wind_Speed      Wind_Speed    \n",
       " Min.   :  2.228   Min.   :25.95   Min.   :-9.000   Min.   :-9.000  \n",
       " 1st Qu.: 33.450   1st Qu.:49.55   1st Qu.: 1.956   1st Qu.: 1.605  \n",
       " Median : 54.880   Median :55.35   Median : 3.039   Median : 2.673  \n",
       " Mean   : 54.434   Mean   :54.91   Mean   : 3.310   Mean   : 2.902  \n",
       " 3rd Qu.: 76.700   3rd Qu.:60.91   3rd Qu.: 4.432   3rd Qu.: 4.012  \n",
       " Max.   :100.000   Max.   :73.60   Max.   :20.630   Max.   :19.220  \n",
       " Wind_Direction     Pk_Wind        Pk_Wind_Time  Wind_Dir_PkSp  \n",
       " Min.   : -9.0   Min.   :-9.000   Min.   :  -9   Min.   : -9.0  \n",
       " 1st Qu.:100.5   1st Qu.: 5.275   1st Qu.: 557   1st Qu.:103.8  \n",
       " Median :231.9   Median : 7.470   Median :1158   Median :219.8  \n",
       " Mean   :194.8   Mean   : 8.266   Mean   :1175   Mean   :193.2  \n",
       " 3rd Qu.:254.0   3rd Qu.:10.770   3rd Qu.:1800   3rd Qu.:255.9  \n",
       " Max.   :359.9   Max.   :49.890   Max.   :2359   Max.   :354.8  \n",
       " Solar_Radiation     Br_Pressure     Sl_Br_Pressure    Accum_Precip     \n",
       " Min.   :   1.420   Min.   : 966.2   Min.   : 997.9   Min.   :0.000000  \n",
       " 1st Qu.:   3.932   1st Qu.: 981.7   1st Qu.:1013.8   1st Qu.:0.000000  \n",
       " Median :  15.235   Median : 983.8   Median :1015.9   Median :0.000000  \n",
       " Mean   : 219.262   Mean   : 984.2   Mean   :1016.2   Mean   :0.001177  \n",
       " 3rd Qu.: 417.800   3rd Qu.: 986.3   3rd Qu.:1018.5   3rd Qu.:0.000000  \n",
       " Max.   :1038.000   Max.   :1000.6   Max.   :1033.1   Max.   :0.520000  "
      ]
     },
     "metadata": {},
     "output_type": "display_data"
    },
    {
     "data": {
      "text/html": [
       "<table>\n",
       "<thead><tr><th scope=col>X1</th><th scope=col>power_system_resourceid</th><th scope=col>value</th><th scope=col>unit</th><th scope=col>interval_time</th><th scope=col>batch_time</th><th scope=col>node_key</th><th scope=col>year</th><th scope=col>reporteddttm</th><th scope=col>Temperature</th><th scope=col>⋯</th><th scope=col>Hz_Wind_Speed</th><th scope=col>Wind_Speed</th><th scope=col>Wind_Direction</th><th scope=col>Pk_Wind</th><th scope=col>Pk_Wind_Time</th><th scope=col>Wind_Dir_PkSp</th><th scope=col>Solar_Radiation</th><th scope=col>Br_Pressure</th><th scope=col>Sl_Br_Pressure</th><th scope=col>Accum_Precip</th></tr></thead>\n",
       "<tbody>\n",
       "\t<tr><td>1                  </td><td>6666               </td><td>2447.070           </td><td>KW                 </td><td>2011-01-01 01:00:00</td><td>2018-08-18 13:40:11</td><td>CKT_4413_06666     </td><td>2011               </td><td>2011-01-01 01:00:00</td><td>43.24              </td><td><U+22EF>           </td><td>3.561              </td><td>3.395              </td><td>87.1               </td><td> 7.69              </td><td> 29                </td><td>95.3               </td><td>2.463              </td><td>989.37             </td><td>1021.6             </td><td>0                  </td></tr>\n",
       "\t<tr><td>2                  </td><td>6666               </td><td>2447.070           </td><td>KW                 </td><td>2011-01-01 02:00:00</td><td>2018-08-18 13:40:11</td><td>CKT_4413_06666     </td><td>2011               </td><td>2011-01-01 02:00:00</td><td>41.75              </td><td><U+22EF>           </td><td>4.063              </td><td>3.865              </td><td>81.4               </td><td> 8.57              </td><td>117                </td><td>90.1               </td><td>2.533              </td><td>989.55             </td><td>1021.8             </td><td>0                  </td></tr>\n",
       "\t<tr><td>3                  </td><td>6666               </td><td>2447.070           </td><td>KW                 </td><td>2011-01-01 03:00:00</td><td>2018-08-18 13:40:11</td><td>CKT_4413_06666     </td><td>2011               </td><td>2011-01-01 03:00:00</td><td>40.26              </td><td><U+22EF>           </td><td>3.830              </td><td>3.661              </td><td>79.3               </td><td> 8.79              </td><td>201                </td><td>85.5               </td><td>2.503              </td><td>989.76             </td><td>1022.0             </td><td>0                  </td></tr>\n",
       "\t<tr><td>4                  </td><td>6666               </td><td>2447.070           </td><td>KW                 </td><td>2011-01-01 04:00:00</td><td>2018-08-18 13:40:11</td><td>CKT_4413_06666     </td><td>2011               </td><td>2011-01-01 04:00:00</td><td>39.61              </td><td><U+22EF>           </td><td>3.941              </td><td>3.762              </td><td>82.7               </td><td> 8.35              </td><td>357                </td><td>96.9               </td><td>2.489              </td><td>989.86             </td><td>1022.1             </td><td>0                  </td></tr>\n",
       "\t<tr><td>5                  </td><td>6666               </td><td>2416.094           </td><td>KW                 </td><td>2011-01-01 05:00:00</td><td>2018-08-18 13:40:11</td><td>CKT_4413_06666     </td><td>2011               </td><td>2011-01-01 05:00:00</td><td>39.66              </td><td><U+22EF>           </td><td>4.457              </td><td>4.267              </td><td>85.5               </td><td>10.77              </td><td>407                </td><td>84.2               </td><td>2.475              </td><td>989.99             </td><td>1022.2             </td><td>0                  </td></tr>\n",
       "\t<tr><td>6                  </td><td>6666               </td><td>1497.152           </td><td>KW                 </td><td>2011-01-01 07:00:00</td><td>2018-08-18 13:40:11</td><td>CKT_4413_06666     </td><td>2011               </td><td>2011-01-01 07:00:00</td><td>38.53              </td><td><U+22EF>           </td><td>4.123              </td><td>3.926              </td><td>84.1               </td><td> 9.67              </td><td>656                </td><td>79.7               </td><td>3.329              </td><td>990.93             </td><td>1023.2             </td><td>0                  </td></tr>\n",
       "</tbody>\n",
       "</table>\n"
      ],
      "text/latex": [
       "\\begin{tabular}{r|lllllllllllllllllllllll}\n",
       " X1 & power\\_system\\_resourceid & value & unit & interval\\_time & batch\\_time & node\\_key & year & reporteddttm & Temperature & ⋯ & Hz\\_Wind\\_Speed & Wind\\_Speed & Wind\\_Direction & Pk\\_Wind & Pk\\_Wind\\_Time & Wind\\_Dir\\_PkSp & Solar\\_Radiation & Br\\_Pressure & Sl\\_Br\\_Pressure & Accum\\_Precip\\\\\n",
       "\\hline\n",
       "\t 1                   & 6666                & 2447.070            & KW                  & 2011-01-01 01:00:00 & 2018-08-18 13:40:11 & CKT\\_4413\\_06666  & 2011                & 2011-01-01 01:00:00 & 43.24               & <U+22EF>            & 3.561               & 3.395               & 87.1                &  7.69               &  29                 & 95.3                & 2.463               & 989.37              & 1021.6              & 0                  \\\\\n",
       "\t 2                   & 6666                & 2447.070            & KW                  & 2011-01-01 02:00:00 & 2018-08-18 13:40:11 & CKT\\_4413\\_06666  & 2011                & 2011-01-01 02:00:00 & 41.75               & <U+22EF>            & 4.063               & 3.865               & 81.4                &  8.57               & 117                 & 90.1                & 2.533               & 989.55              & 1021.8              & 0                  \\\\\n",
       "\t 3                   & 6666                & 2447.070            & KW                  & 2011-01-01 03:00:00 & 2018-08-18 13:40:11 & CKT\\_4413\\_06666  & 2011                & 2011-01-01 03:00:00 & 40.26               & <U+22EF>            & 3.830               & 3.661               & 79.3                &  8.79               & 201                 & 85.5                & 2.503               & 989.76              & 1022.0              & 0                  \\\\\n",
       "\t 4                   & 6666                & 2447.070            & KW                  & 2011-01-01 04:00:00 & 2018-08-18 13:40:11 & CKT\\_4413\\_06666  & 2011                & 2011-01-01 04:00:00 & 39.61               & <U+22EF>            & 3.941               & 3.762               & 82.7                &  8.35               & 357                 & 96.9                & 2.489               & 989.86              & 1022.1              & 0                  \\\\\n",
       "\t 5                   & 6666                & 2416.094            & KW                  & 2011-01-01 05:00:00 & 2018-08-18 13:40:11 & CKT\\_4413\\_06666  & 2011                & 2011-01-01 05:00:00 & 39.66               & <U+22EF>            & 4.457               & 4.267               & 85.5                & 10.77               & 407                 & 84.2                & 2.475               & 989.99              & 1022.2              & 0                  \\\\\n",
       "\t 6                   & 6666                & 1497.152            & KW                  & 2011-01-01 07:00:00 & 2018-08-18 13:40:11 & CKT\\_4413\\_06666  & 2011                & 2011-01-01 07:00:00 & 38.53               & <U+22EF>            & 4.123               & 3.926               & 84.1                &  9.67               & 656                 & 79.7                & 3.329               & 990.93              & 1023.2              & 0                  \\\\\n",
       "\\end{tabular}\n"
      ],
      "text/markdown": [
       "\n",
       "| X1 | power_system_resourceid | value | unit | interval_time | batch_time | node_key | year | reporteddttm | Temperature | ⋯ | Hz_Wind_Speed | Wind_Speed | Wind_Direction | Pk_Wind | Pk_Wind_Time | Wind_Dir_PkSp | Solar_Radiation | Br_Pressure | Sl_Br_Pressure | Accum_Precip |\n",
       "|---|---|---|---|---|---|---|---|---|---|---|---|---|---|---|---|---|---|---|---|---|\n",
       "| 1                   | 6666                | 2447.070            | KW                  | 2011-01-01 01:00:00 | 2018-08-18 13:40:11 | CKT_4413_06666      | 2011                | 2011-01-01 01:00:00 | 43.24               | <U+22EF>            | 3.561               | 3.395               | 87.1                |  7.69               |  29                 | 95.3                | 2.463               | 989.37              | 1021.6              | 0                   |\n",
       "| 2                   | 6666                | 2447.070            | KW                  | 2011-01-01 02:00:00 | 2018-08-18 13:40:11 | CKT_4413_06666      | 2011                | 2011-01-01 02:00:00 | 41.75               | <U+22EF>            | 4.063               | 3.865               | 81.4                |  8.57               | 117                 | 90.1                | 2.533               | 989.55              | 1021.8              | 0                   |\n",
       "| 3                   | 6666                | 2447.070            | KW                  | 2011-01-01 03:00:00 | 2018-08-18 13:40:11 | CKT_4413_06666      | 2011                | 2011-01-01 03:00:00 | 40.26               | <U+22EF>            | 3.830               | 3.661               | 79.3                |  8.79               | 201                 | 85.5                | 2.503               | 989.76              | 1022.0              | 0                   |\n",
       "| 4                   | 6666                | 2447.070            | KW                  | 2011-01-01 04:00:00 | 2018-08-18 13:40:11 | CKT_4413_06666      | 2011                | 2011-01-01 04:00:00 | 39.61               | <U+22EF>            | 3.941               | 3.762               | 82.7                |  8.35               | 357                 | 96.9                | 2.489               | 989.86              | 1022.1              | 0                   |\n",
       "| 5                   | 6666                | 2416.094            | KW                  | 2011-01-01 05:00:00 | 2018-08-18 13:40:11 | CKT_4413_06666      | 2011                | 2011-01-01 05:00:00 | 39.66               | <U+22EF>            | 4.457               | 4.267               | 85.5                | 10.77               | 407                 | 84.2                | 2.475               | 989.99              | 1022.2              | 0                   |\n",
       "| 6                   | 6666                | 1497.152            | KW                  | 2011-01-01 07:00:00 | 2018-08-18 13:40:11 | CKT_4413_06666      | 2011                | 2011-01-01 07:00:00 | 38.53               | <U+22EF>            | 4.123               | 3.926               | 84.1                |  9.67               | 656                 | 79.7                | 3.329               | 990.93              | 1023.2              | 0                   |\n",
       "\n"
      ],
      "text/plain": [
       "  X1 power_system_resourceid value    unit interval_time      \n",
       "1 1  6666                    2447.070 KW   2011-01-01 01:00:00\n",
       "2 2  6666                    2447.070 KW   2011-01-01 02:00:00\n",
       "3 3  6666                    2447.070 KW   2011-01-01 03:00:00\n",
       "4 4  6666                    2447.070 KW   2011-01-01 04:00:00\n",
       "5 5  6666                    2416.094 KW   2011-01-01 05:00:00\n",
       "6 6  6666                    1497.152 KW   2011-01-01 07:00:00\n",
       "  batch_time          node_key       year reporteddttm        Temperature\n",
       "1 2018-08-18 13:40:11 CKT_4413_06666 2011 2011-01-01 01:00:00 43.24      \n",
       "2 2018-08-18 13:40:11 CKT_4413_06666 2011 2011-01-01 02:00:00 41.75      \n",
       "3 2018-08-18 13:40:11 CKT_4413_06666 2011 2011-01-01 03:00:00 40.26      \n",
       "4 2018-08-18 13:40:11 CKT_4413_06666 2011 2011-01-01 04:00:00 39.61      \n",
       "5 2018-08-18 13:40:11 CKT_4413_06666 2011 2011-01-01 05:00:00 39.66      \n",
       "6 2018-08-18 13:40:11 CKT_4413_06666 2011 2011-01-01 07:00:00 38.53      \n",
       "  <U+22EF>        Hz_Wind_Speed Wind_Speed Wind_Direction Pk_Wind Pk_Wind_Time\n",
       "1 <U+22EF> 3.561         3.395      87.1            7.69    29         \n",
       "2 <U+22EF> 4.063         3.865      81.4            8.57   117         \n",
       "3 <U+22EF> 3.830         3.661      79.3            8.79   201         \n",
       "4 <U+22EF> 3.941         3.762      82.7            8.35   357         \n",
       "5 <U+22EF> 4.457         4.267      85.5           10.77   407         \n",
       "6 <U+22EF> 4.123         3.926      84.1            9.67   656         \n",
       "  Wind_Dir_PkSp Solar_Radiation Br_Pressure Sl_Br_Pressure Accum_Precip\n",
       "1 95.3          2.463           989.37      1021.6         0           \n",
       "2 90.1          2.533           989.55      1021.8         0           \n",
       "3 85.5          2.503           989.76      1022.0         0           \n",
       "4 96.9          2.489           989.86      1022.1         0           \n",
       "5 84.2          2.475           989.99      1022.2         0           \n",
       "6 79.7          3.329           990.93      1023.2         0           "
      ]
     },
     "metadata": {},
     "output_type": "display_data"
    }
   ],
   "source": [
    "summary(iga_fortress)\n",
    "head(iga_fortress)"
   ]
  },
  {
   "cell_type": "markdown",
   "metadata": {},
   "source": [
    "The goal for the machine learning models is to predict the load (`value`) for each circuit based on the features.\n",
    "\n",
    "We will split the records into training and test datasets: each model will be fitted using the training data, and evaluated using the withheld test data."
   ]
  },
  {
   "cell_type": "code",
   "execution_count": 3,
   "metadata": {},
   "outputs": [],
   "source": [
    "set.seed(123)\n",
    "iga_fortress.train_indices <- sample(1:nrow(iga_fortress), size = round(nrow(iga_fortress) * 0.7))\n",
    "iga_fortress.train_df <- iga_fortress[iga_fortress.train_indices, ]\n",
    "iga_fortress.test_df <- iga_fortress[-iga_fortress.train_indices, ]\n",
    "\n",
    "#TODO REPEAT FOR OTHERS\n"
   ]
  },
  {
   "cell_type": "markdown",
   "metadata": {},
   "source": [
    "As you can see from the description above, the number of predictive features available in this dataset (10) is comparable to the number of records (22). Such conditions tend to produce overfitted models that give exceptional predictions on their own training data, but poor predictions on the withheld test data. We will see an example of an overfitted model below."
   ]
  },
  {
   "cell_type": "markdown",
   "metadata": {},
   "source": [
    "## Fit Models\n",
    "### Linear Model\n",
    "The following lines of code fit a linear model (without regularization) using all of the original features:"
   ]
  },
  {
   "cell_type": "code",
   "execution_count": 4,
   "metadata": {},
   "outputs": [
    {
     "name": "stdout",
     "output_type": "stream",
     "text": [
      "value ~ Temperature + Dew_Point + Relative_Humidity + WB_Temp + \n",
      "    Hz_Wind_Speed + Wind_Speed\n"
     ]
    },
    {
     "data": {
      "text/plain": [
       "\n",
       "Call:\n",
       "lm(formula = iga_fortress.my_formula, data = iga_fortress.train_df)\n",
       "\n",
       "Residuals:\n",
       "    Min      1Q  Median      3Q     Max \n",
       "-3474.2  -715.1  -139.6   583.6  7137.4 \n",
       "\n",
       "Coefficients:\n",
       "                   Estimate Std. Error t value Pr(>|t|)    \n",
       "(Intercept)        427.4956    70.7647   6.041 1.54e-09 ***\n",
       "Temperature        134.1739     3.2031  41.889  < 2e-16 ***\n",
       "Dew_Point           68.7229     2.0005  34.353  < 2e-16 ***\n",
       "Relative_Humidity    4.4441     0.7898   5.627 1.85e-08 ***\n",
       "WB_Temp           -169.4455     5.6941 -29.758  < 2e-16 ***\n",
       "Hz_Wind_Speed     -311.8049    11.3151 -27.556  < 2e-16 ***\n",
       "Wind_Speed         332.4629    11.3706  29.239  < 2e-16 ***\n",
       "---\n",
       "Signif. codes:  0 '***' 0.001 '**' 0.01 '*' 0.05 '.' 0.1 ' ' 1\n",
       "\n",
       "Residual standard error: 1076 on 49020 degrees of freedom\n",
       "Multiple R-squared:  0.2819,\tAdjusted R-squared:  0.2818 \n",
       "F-statistic:  3207 on 6 and 49020 DF,  p-value: < 2.2e-16\n"
      ]
     },
     "metadata": {},
     "output_type": "display_data"
    }
   ],
   "source": [
    "iga_fortress.my_formula <- as.formula(paste(list(colnames(iga_fortress)[3], paste(colnames(iga_fortress)[10:15], collapse =' + ')), collapse=' ~ '))\n",
    "print(iga_fortress.my_formula)\n",
    "\n",
    "iga_fortress.fit <- lm(iga_fortress.my_formula, data=iga_fortress.train_df)\n",
    "summary(iga_fortress.fit)"
   ]
  },
  {
   "cell_type": "markdown",
   "metadata": {},
   "source": [
    "The fitted model summary shows a poor fit to the training data, but only a few of the model features have strong significance. Let's apply this fitted model to the test dataset and evaluate the results:"
   ]
  },
  {
   "cell_type": "code",
   "execution_count": 5,
   "metadata": {
    "scrolled": true
   },
   "outputs": [
    {
     "data": {
      "text/html": [
       "<table>\n",
       "<thead><tr><th></th><th scope=col>Linear regression, all variables</th></tr></thead>\n",
       "<tbody>\n",
       "\t<tr><th scope=row>R-Squared</th><td>   0.2839152</td></tr>\n",
       "\t<tr><th scope=row>Mean Absolute Error</th><td> 827.7554180</td></tr>\n",
       "\t<tr><th scope=row>Root Mean Squared Error</th><td>1081.5901282</td></tr>\n",
       "\t<tr><th scope=row>Relative Absolute Error</th><td>   0.8742148</td></tr>\n",
       "\t<tr><th scope=row>Relative Squared Error</th><td>   0.7160848</td></tr>\n",
       "</tbody>\n",
       "</table>\n"
      ],
      "text/latex": [
       "\\begin{tabular}{r|l}\n",
       "  & Linear regression, all variables\\\\\n",
       "\\hline\n",
       "\tR-Squared &    0.2839152\\\\\n",
       "\tMean Absolute Error &  827.7554180\\\\\n",
       "\tRoot Mean Squared Error & 1081.5901282\\\\\n",
       "\tRelative Absolute Error &    0.8742148\\\\\n",
       "\tRelative Squared Error &    0.7160848\\\\\n",
       "\\end{tabular}\n"
      ],
      "text/markdown": [
       "\n",
       "| <!--/--> | Linear regression, all variables |\n",
       "|---|---|\n",
       "| R-Squared |    0.2839152 |\n",
       "| Mean Absolute Error |  827.7554180 |\n",
       "| Root Mean Squared Error | 1081.5901282 |\n",
       "| Relative Absolute Error |    0.8742148 |\n",
       "| Relative Squared Error |    0.7160848 |\n",
       "\n"
      ],
      "text/plain": [
       "                        Linear regression, all variables\n",
       "R-Squared                  0.2839152                    \n",
       "Mean Absolute Error      827.7554180                    \n",
       "Root Mean Squared Error 1081.5901282                    \n",
       "Relative Absolute Error    0.8742148                    \n",
       "Relative Squared Error     0.7160848                    "
      ]
     },
     "metadata": {},
     "output_type": "display_data"
    }
   ],
   "source": [
    "# Create a summary stats function we'll apply for each model\n",
    "summary_stats <- function(predicted, actual) {\n",
    "    r_squared <- 1 - (sum((actual - predicted)^2) / sum((actual - mean(actual))^2))\n",
    "    mae <- mean(abs(predicted - actual))\n",
    "    rmse <- (mean((predicted - actual)^2))^0.5\n",
    "    rae <- mean(abs(predicted - actual)) / mean(abs(actual - mean(actual)))\n",
    "    rse <- mean((predicted - actual)^2) / mean((actual - mean(actual))^2) \n",
    "    return(c(r_squared, mae, rmse, rae, rse))\n",
    "}\n",
    "\n",
    "iga_fortress.summary_df <- data.frame(list(summary_stats(predict(iga_fortress.fit, newdata=iga_fortress.test_df), iga_fortress.test_df[['value']])))\n",
    "colnames(iga_fortress.summary_df) = c('Linear regression, all variables')\n",
    "row.names(iga_fortress.summary_df) <- c('R-Squared', 'Mean Absolute Error', 'Root Mean Squared Error',\n",
    "                           'Relative Absolute Error', 'Relative Squared Error')\n",
    "iga_fortress.summary_df"
   ]
  },
  {
   "cell_type": "markdown",
   "metadata": {},
   "source": [
    "Notice that the R-squared value for true vs. predicted `scada value` of the test set is not much better than it was for the training set. (Granted, our test set is not very large, so some fluctuation is expected.) Training R squared values that are much lower than test R squared values is indicative of model overfitting."
   ]
  },
  {
   "cell_type": "markdown",
   "metadata": {},
   "source": [
    "### Linear Model with Feature Selection\n",
    "\n",
    "One way to reduce overfitting is to remove some predictive features from the model. Ideally we would be able to examine many or all possible subsets of features and select the subset of features that gives the best performance, but that is usually impractical due to the large number of possible subsets. A common alternative is to start from the full list of features and recursively remove one that seems to be contributing least to the model's performance (i.e., the feature whose removal has the least negative/most positive effect on model performance). This process is called recursive feature elimination (RFE).\n",
    "\n",
    "RFE fits many models and compares their performance: it therefore requires both training and testing data. We would like to reserve the test dataset we created earlier to fairly compare all models, so RFE will need to set aside some records in the training dataset for its own round of testing. Fortunately, this is easily done using the `caret` package in R. This package will take a moment to install."
   ]
  },
  {
   "cell_type": "code",
   "execution_count": 8,
   "metadata": {},
   "outputs": [
    {
     "data": {
      "text/plain": [
       "\n",
       "Recursive feature selection\n",
       "\n",
       "Outer resampling method: Cross-Validated (10 fold, repeated 5 times) \n",
       "\n",
       "Resampling performance over subset size:\n",
       "\n",
       " Variables RMSE Rsquared   MAE RMSESD RsquaredSD  MAESD Selected\n",
       "         1 1103   0.2440 840.7  12.21   0.009022  7.675         \n",
       "         2 1099   0.2499 843.2  12.19   0.008482  7.624         \n",
       "         3 1085   0.2689 830.3  12.02   0.009669  7.849         \n",
       "         4 1084   0.2701 828.9  12.01   0.009747  7.678         \n",
       "         5 1066   0.2947 817.5  21.48   0.022541 15.550         \n",
       "         6 1033   0.3378 793.5  12.00   0.008618  8.074         \n",
       "         7 1031   0.3399 792.5  11.89   0.008560  8.053         \n",
       "         8 1030   0.3416 792.5  11.67   0.008715  8.003         \n",
       "         9 1028   0.3440 791.1  11.72   0.008544  8.156         \n",
       "        10 1028   0.3440 791.0  11.73   0.008531  8.159        *\n",
       "\n",
       "The top 5 variables (out of 10):\n",
       "   Temperature, WB_Temp, Dew_Point, Wind_Speed, Hz_Wind_Speed\n"
      ]
     },
     "metadata": {},
     "output_type": "display_data"
    }
   ],
   "source": [
    "#install.packages('caret')\n",
    "library('caret')\n",
    "library('plyr')\n",
    "\n",
    "# split the features from the field to be predicted; normalize the features\n",
    "iga_fortress.x <- as.matrix(subset(iga_fortress.train_df, select =-c(1,2,3,4,5,6,7,8,9,20,21,22,23)))\n",
    "iga_fortress.normalization <- preProcess(iga_fortress.x)  # train the normalizer\n",
    "iga_fortress.x <- predict(iga_fortress.normalization, iga_fortress.x)  # apply the normalizer\n",
    "iga_fortress.x <- as.data.frame(iga_fortress.x)\n",
    "iga_fortress.y <- iga_fortress.train_df[['value']]\n",
    "\n",
    "# perform the recursive feature elimination\n",
    "set.seed(123)\n",
    "ctrl <- rfeControl(functions = lmFuncs,\n",
    "                   method = \"repeatedcv\",\n",
    "                   repeats = 5)\n",
    "iga_fortress.lm_rfe_results <- rfe(iga_fortress.x, iga_fortress.y,\n",
    "                      sizes = c(1:9),\n",
    "                      metric = 'Rsquared',\n",
    "                      rfeControl = rfeControl(functions = lmFuncs,\n",
    "                                              method = \"repeatedcv\",\n",
    "                                              repeats = 5))\n",
    "iga_fortress.lm_rfe_results"
   ]
  },
  {
   "cell_type": "markdown",
   "metadata": {},
   "source": [
    "We've used the R-squared value as our metric for model quality. The R-squared value is maximized when the model contains 10 features (this maximum is more easily identified in the plot below):"
   ]
  },
  {
   "cell_type": "code",
   "execution_count": 9,
   "metadata": {},
   "outputs": [
    {
     "data": {
      "image/png": "[encoded data removed]",
      "text/plain": [
       "plot without title"
      ]
     },
     "metadata": {},
     "output_type": "display_data"
    }
   ],
   "source": [
    "library(ggplot2)\n",
    "\n",
    "plot_df = data.frame(list(Features = iga_fortress.lm_rfe_results$results$Variables,\n",
    "                          Rsquared = iga_fortress.lm_rfe_results$results$Rsquared))\n",
    "ggplot(plot_df, aes(x=Features, y=Rsquared)) + geom_line() +\n",
    "    ylab('R-squared for true vs. predicted \\n mpg in cross-validation') +\n",
    "    scale_x_continuous(name = 'Number of features in model',\n",
    "                       breaks=1:10)"
   ]
  },
  {
   "cell_type": "markdown",
   "metadata": {},
   "source": [
    "It appears that the more features the better the performance of the model but the r squared is still relatively low.\n",
    "\n",
    "We'll fit a linear model that uses the suggested features:"
   ]
  },
  {
   "cell_type": "code",
   "execution_count": 12,
   "metadata": {},
   "outputs": [
    {
     "name": "stdout",
     "output_type": "stream",
     "text": [
      "value ~ Temperature + WB_Temp + Dew_Point + Wind_Speed + Hz_Wind_Speed + \n",
      "    Pk_Wind_Time + Relative_Humidity + Pk_Wind + Wind_Direction + \n",
      "    Wind_Dir_PkSp\n"
     ]
    },
    {
     "data": {
      "text/plain": [
       "\n",
       "Call:\n",
       "lm(formula = my_formula_short, data = iga_fortress.train_df)\n",
       "\n",
       "Residuals:\n",
       "    Min      1Q  Median      3Q     Max \n",
       "-3375.7  -681.3  -103.8   568.2  7022.4 \n",
       "\n",
       "Coefficients:\n",
       "                    Estimate Std. Error t value Pr(>|t|)    \n",
       "(Intercept)       -2.941e+02  6.957e+01  -4.227 2.37e-05 ***\n",
       "Temperature        1.405e+02  3.075e+00  45.707  < 2e-16 ***\n",
       "WB_Temp           -1.711e+02  5.506e+00 -31.078  < 2e-16 ***\n",
       "Dew_Point          6.285e+01  1.924e+00  32.661  < 2e-16 ***\n",
       "Wind_Speed         2.620e+02  1.154e+01  22.710  < 2e-16 ***\n",
       "Hz_Wind_Speed     -1.950e+02  1.519e+01 -12.838  < 2e-16 ***\n",
       "Pk_Wind_Time       4.872e-01  7.147e-03  68.176  < 2e-16 ***\n",
       "Relative_Humidity  1.068e+01  7.624e-01  14.007  < 2e-16 ***\n",
       "Pk_Wind           -2.903e+01  3.360e+00  -8.641  < 2e-16 ***\n",
       "Wind_Direction    -8.232e-01  1.243e-01  -6.625 3.51e-11 ***\n",
       "Wind_Dir_PkSp     -1.658e-01  1.179e-01  -1.406     0.16    \n",
       "---\n",
       "Signif. codes:  0 '***' 0.001 '**' 0.01 '*' 0.05 '.' 0.1 ' ' 1\n",
       "\n",
       "Residual standard error: 1028 on 49016 degrees of freedom\n",
       "Multiple R-squared:  0.3443,\tAdjusted R-squared:  0.3441 \n",
       "F-statistic:  2573 on 10 and 49016 DF,  p-value: < 2.2e-16\n"
      ]
     },
     "metadata": {},
     "output_type": "display_data"
    }
   ],
   "source": [
    "my_formula_short <- as.formula(paste(list(colnames(iga_fortress)[3],\n",
    "                                          paste(iga_fortress.lm_rfe_results$optVariables, collapse =' + ')),\n",
    "                                     collapse=' ~ '))\n",
    "print(my_formula_short)\n",
    "iga_fortress.fit2 <- lm(my_formula_short, data=iga_fortress.train_df)\n",
    "summary(iga_fortress.fit2)"
   ]
  },
  {
   "cell_type": "markdown",
   "metadata": {},
   "source": [
    "...and evaluate its performance on the test set:"
   ]
  },
  {
   "cell_type": "code",
   "execution_count": 14,
   "metadata": {},
   "outputs": [
    {
     "data": {
      "text/html": [
       "<table>\n",
       "<thead><tr><th></th><th scope=col>Linear regression, all variables</th><th scope=col>Linear regression, selected variables</th></tr></thead>\n",
       "<tbody>\n",
       "\t<tr><th scope=row>R-Squared</th><td>   0.2839152</td><td>   0.3424301</td></tr>\n",
       "\t<tr><th scope=row>Mean Absolute Error</th><td> 827.7554180</td><td> 798.3755213</td></tr>\n",
       "\t<tr><th scope=row>Root Mean Squared Error</th><td>1081.5901282</td><td>1036.4573326</td></tr>\n",
       "\t<tr><th scope=row>Relative Absolute Error</th><td>   0.8742148</td><td>   0.8431859</td></tr>\n",
       "\t<tr><th scope=row>Relative Squared Error</th><td>   0.7160848</td><td>   0.6575699</td></tr>\n",
       "</tbody>\n",
       "</table>\n"
      ],
      "text/latex": [
       "\\begin{tabular}{r|ll}\n",
       "  & Linear regression, all variables & Linear regression, selected variables\\\\\n",
       "\\hline\n",
       "\tR-Squared &    0.2839152 &    0.3424301\\\\\n",
       "\tMean Absolute Error &  827.7554180 &  798.3755213\\\\\n",
       "\tRoot Mean Squared Error & 1081.5901282 & 1036.4573326\\\\\n",
       "\tRelative Absolute Error &    0.8742148 &    0.8431859\\\\\n",
       "\tRelative Squared Error &    0.7160848 &    0.6575699\\\\\n",
       "\\end{tabular}\n"
      ],
      "text/markdown": [
       "\n",
       "| <!--/--> | Linear regression, all variables | Linear regression, selected variables |\n",
       "|---|---|---|\n",
       "| R-Squared |    0.2839152 |    0.3424301 |\n",
       "| Mean Absolute Error |  827.7554180 |  798.3755213 |\n",
       "| Root Mean Squared Error | 1081.5901282 | 1036.4573326 |\n",
       "| Relative Absolute Error |    0.8742148 |    0.8431859 |\n",
       "| Relative Squared Error |    0.7160848 |    0.6575699 |\n",
       "\n"
      ],
      "text/plain": [
       "                        Linear regression, all variables\n",
       "R-Squared                  0.2839152                    \n",
       "Mean Absolute Error      827.7554180                    \n",
       "Root Mean Squared Error 1081.5901282                    \n",
       "Relative Absolute Error    0.8742148                    \n",
       "Relative Squared Error     0.7160848                    \n",
       "                        Linear regression, selected variables\n",
       "R-Squared                  0.3424301                         \n",
       "Mean Absolute Error      798.3755213                         \n",
       "Root Mean Squared Error 1036.4573326                         \n",
       "Relative Absolute Error    0.8431859                         \n",
       "Relative Squared Error     0.6575699                         "
      ]
     },
     "metadata": {},
     "output_type": "display_data"
    }
   ],
   "source": [
    "iga_fortress.summary_df['Linear regression, selected variables'] <- summary_stats(predict(iga_fortress.fit2, iga_fortress.test_df), iga_fortress.test_df[['value']])\n",
    "iga_fortress.summary_df"
   ]
  },
  {
   "cell_type": "markdown",
   "metadata": {},
   "source": [
    "The model's performance on the withheld test set improved (by all metrics) after the all features were inckuded."
   ]
  },
  {
   "cell_type": "markdown",
   "metadata": {},
   "source": [
    "### Gradient Boosting Machine Regression Model\n",
    "\n",
    "Before fitting the gradient boosting model, we need to estimate some parameters and we'll do this using cross-validation along with grid search. First, we install the necessary package for the gradient boosting machine models:"
   ]
  },
  {
   "cell_type": "code",
   "execution_count": 27,
   "metadata": {
    "scrolled": false
   },
   "outputs": [
    {
     "ename": "ERROR",
     "evalue": "Error in library(\"gbm\"): there is no package called 'gbm'\n",
     "output_type": "error",
     "traceback": [
      "Error in library(\"gbm\"): there is no package called 'gbm'\nTraceback:\n",
      "1. library(\"gbm\")",
      "2. stop(txt, domain = NA)"
     ]
    }
   ],
   "source": [
    "#install.packages('gbm')\n",
    "library('gbm')"
   ]
  },
  {
   "cell_type": "markdown",
   "metadata": {},
   "source": [
    "We set the combinations of parameters to try using the `caret` package function `expand.grid()`, and our cross-validation settings using `trainControl`. We train the gradient boosting machine model using these parameters and the `caret` package function `train()`. This code box may take some time to run because it tries $2^4=16$ parameter combinations and runs through multiple cross-validation rounds."
   ]
  },
  {
   "cell_type": "code",
   "execution_count": null,
   "metadata": {
    "scrolled": true
   },
   "outputs": [],
   "source": [
    "gbmGrid <-  expand.grid(shrinkage = c(0.01, 0.001),\n",
    "                        interaction.depth = c(2, 4),\n",
    "                        n.trees = c(5000, 10000),\n",
    "                        n.minobsinnode = c(1, 2))\n",
    "fitControl <- trainControl(method = \"repeatedcv\",\n",
    "                           number = 5,\n",
    "                           repeats = 5)\n",
    "iga_fortress.fit3 <- train(iga_fortress.my_formula,\n",
    "              data = iga_fortress.train_df,                \n",
    "              method = \"gbm\",\n",
    "              trControl = fitControl,\n",
    "              tuneGrid = gbmGrid,\n",
    "              verbose = FALSE,\n",
    "              metric = 'Rsquared')\n",
    "iga_fortress.fit3"
   ]
  },
  {
   "cell_type": "markdown",
   "metadata": {},
   "source": [
    "We can now use the model fitted with the optimal parameter combination to predict the gas mileage for test set records:"
   ]
  },
  {
   "cell_type": "code",
   "execution_count": 12,
   "metadata": {},
   "outputs": [
    {
     "data": {
      "text/html": [
       "<table>\n",
       "<thead><tr><th></th><th scope=col>Linear regression, all variables</th><th scope=col>Linear regression, selected variables</th><th scope=col>Gradient boosting machine regression</th></tr></thead>\n",
       "<tbody>\n",
       "\t<tr><th scope=row>R-Squared</th><td>0.5538858</td><td>0.7285314</td><td>0.8295276</td></tr>\n",
       "\t<tr><th scope=row>Mean Absolute Error</th><td>4.4714163</td><td>3.2496889</td><td>2.3240431</td></tr>\n",
       "\t<tr><th scope=row>Root Mean Squared Error</th><td>4.8573790</td><td>3.7891239</td><td>3.0026594</td></tr>\n",
       "\t<tr><th scope=row>Relative Absolute Error</th><td>0.7514985</td><td>0.5461662</td><td>0.3905955</td></tr>\n",
       "\t<tr><th scope=row>Relative Squared Error</th><td>0.4461142</td><td>0.2714686</td><td>0.1704724</td></tr>\n",
       "</tbody>\n",
       "</table>\n"
      ],
      "text/latex": [
       "\\begin{tabular}{r|lll}\n",
       "  & Linear regression, all variables & Linear regression, selected variables & Gradient boosting machine regression\\\\\n",
       "\\hline\n",
       "\tR-Squared & 0.5538858 & 0.7285314 & 0.8295276\\\\\n",
       "\tMean Absolute Error & 4.4714163 & 3.2496889 & 2.3240431\\\\\n",
       "\tRoot Mean Squared Error & 4.8573790 & 3.7891239 & 3.0026594\\\\\n",
       "\tRelative Absolute Error & 0.7514985 & 0.5461662 & 0.3905955\\\\\n",
       "\tRelative Squared Error & 0.4461142 & 0.2714686 & 0.1704724\\\\\n",
       "\\end{tabular}\n"
      ],
      "text/plain": [
       "                        Linear regression, all variables\n",
       "R-Squared               0.5538858                       \n",
       "Mean Absolute Error     4.4714163                       \n",
       "Root Mean Squared Error 4.8573790                       \n",
       "Relative Absolute Error 0.7514985                       \n",
       "Relative Squared Error  0.4461142                       \n",
       "                        Linear regression, selected variables\n",
       "R-Squared               0.7285314                            \n",
       "Mean Absolute Error     3.2496889                            \n",
       "Root Mean Squared Error 3.7891239                            \n",
       "Relative Absolute Error 0.5461662                            \n",
       "Relative Squared Error  0.2714686                            \n",
       "                        Gradient boosting machine regression\n",
       "R-Squared               0.8295276                           \n",
       "Mean Absolute Error     2.3240431                           \n",
       "Root Mean Squared Error 3.0026594                           \n",
       "Relative Absolute Error 0.3905955                           \n",
       "Relative Squared Error  0.1704724                           "
      ]
     },
     "metadata": {},
     "output_type": "display_data"
    }
   ],
   "source": [
    "iga_fortress.summary_df['Gradient boosting machine regression'] <- summary_stats(predict(iga_fortress.fit3, newdata=iga_fortress.test_df), iga_fortress.test_df[['mpg']])\n",
    "iga_fortress.summary_df"
   ]
  },
  {
   "cell_type": "markdown",
   "metadata": {},
   "source": [
    "Looks like our gradient boosting machine model did quite well! The plot below shows the importance of each feature:"
   ]
  },
  {
   "cell_type": "code",
   "execution_count": 13,
   "metadata": {},
   "outputs": [
    {
     "data": {},
     "metadata": {},
     "output_type": "display_data"
    },
    {
     "data": {
      "image/png": "[encoded data removed]",
      "text/plain": [
       "plot without title"
      ]
     },
     "metadata": {},
     "output_type": "display_data"
    }
   ],
   "source": [
    "# get feature importance information\n",
    "feature_importance <- varImp(iga_fortress.fit3, scale = FALSE)\n",
    "plot_df <- data.frame(list(name = row.names(feature_importance$importance),\n",
    "                           importance = feature_importance$importance$Overall))\n",
    "\n",
    "# plot the feature importances in descending order\n",
    "plot_df <- plot_df[with(plot_df, order(-importance)), ]\n",
    "plot_df$name <- factor(plot_df$name, levels=plot_df$name)\n",
    "ggplot(plot_df, aes(x=name, y=importance)) + geom_bar(stat='identity') +\n",
    "    xlab('Feature name') + ylab('Feature importance')"
   ]
  },
  {
   "cell_type": "markdown",
   "metadata": {},
   "source": [
    "Notice that the features retained after recursive feature elimination have relatively high feature importance in GBM as well.\n",
    "\n",
    "Let's assess whether our GBM model's performance is likely to be limited by the number of estimators used:"
   ]
  },
  {
   "cell_type": "code",
   "execution_count": 14,
   "metadata": {},
   "outputs": [
    {
     "data": {},
     "metadata": {},
     "output_type": "display_data"
    },
    {
     "data": {
      "image/png": "[encoded data removed]",
      "text/plain": [
       "plot without title"
      ]
     },
     "metadata": {},
     "output_type": "display_data"
    }
   ],
   "source": [
    "gbmGrid <-  expand.grid(shrinkage = 0.01,\n",
    "                        interaction.depth = 2,\n",
    "                        n.trees = 50 * 1:120,\n",
    "                        n.minobsinnode = 1)\n",
    "iga_fortress.fit3_trees <- train(iga_fortress.my_formula,\n",
    "                   data = iga_fortress.train_df,                \n",
    "                   method = \"gbm\",\n",
    "                   trControl = fitControl,\n",
    "                   tuneGrid = gbmGrid,\n",
    "                   verbose = FALSE,\n",
    "                   metric = 'Rsquared')\n",
    "trellis.par.set(caretTheme())\n",
    "plot(iga_fortress.fit3_trees)"
   ]
  },
  {
   "cell_type": "markdown",
   "metadata": {},
   "source": [
    "The quality of the model plateaus after around 2000 iterations, suggesting that model quality would not improve substantially if the number of trees were increased."
   ]
  },
  {
   "cell_type": "markdown",
   "metadata": {},
   "source": [
    "## Conclusion\n",
    "The following table compares the performance of the three models. Variable selection using RFE improved the performance of the linear regression model by all metrics. The GBM model performed better still on all metrics, though some differences are small relative to the random fluctuations we might expect with a dataset of this size."
   ]
  },
  {
   "cell_type": "code",
   "execution_count": 15,
   "metadata": {
    "scrolled": true
   },
   "outputs": [
    {
     "data": {
      "text/html": [
       "<table>\n",
       "<thead><tr><th></th><th scope=col>Linear regression, all variables</th><th scope=col>Linear regression, selected variables</th><th scope=col>Gradient boosting machine regression</th></tr></thead>\n",
       "<tbody>\n",
       "\t<tr><th scope=row>R-Squared</th><td>0.5538858</td><td>0.7285314</td><td>0.8295276</td></tr>\n",
       "\t<tr><th scope=row>Mean Absolute Error</th><td>4.4714163</td><td>3.2496889</td><td>2.3240431</td></tr>\n",
       "\t<tr><th scope=row>Root Mean Squared Error</th><td>4.8573790</td><td>3.7891239</td><td>3.0026594</td></tr>\n",
       "\t<tr><th scope=row>Relative Absolute Error</th><td>0.7514985</td><td>0.5461662</td><td>0.3905955</td></tr>\n",
       "\t<tr><th scope=row>Relative Squared Error</th><td>0.4461142</td><td>0.2714686</td><td>0.1704724</td></tr>\n",
       "</tbody>\n",
       "</table>\n"
      ],
      "text/latex": [
       "\\begin{tabular}{r|lll}\n",
       "  & Linear regression, all variables & Linear regression, selected variables & Gradient boosting machine regression\\\\\n",
       "\\hline\n",
       "\tR-Squared & 0.5538858 & 0.7285314 & 0.8295276\\\\\n",
       "\tMean Absolute Error & 4.4714163 & 3.2496889 & 2.3240431\\\\\n",
       "\tRoot Mean Squared Error & 4.8573790 & 3.7891239 & 3.0026594\\\\\n",
       "\tRelative Absolute Error & 0.7514985 & 0.5461662 & 0.3905955\\\\\n",
       "\tRelative Squared Error & 0.4461142 & 0.2714686 & 0.1704724\\\\\n",
       "\\end{tabular}\n"
      ],
      "text/plain": [
       "                        Linear regression, all variables\n",
       "R-Squared               0.5538858                       \n",
       "Mean Absolute Error     4.4714163                       \n",
       "Root Mean Squared Error 4.8573790                       \n",
       "Relative Absolute Error 0.7514985                       \n",
       "Relative Squared Error  0.4461142                       \n",
       "                        Linear regression, selected variables\n",
       "R-Squared               0.7285314                            \n",
       "Mean Absolute Error     3.2496889                            \n",
       "Root Mean Squared Error 3.7891239                            \n",
       "Relative Absolute Error 0.5461662                            \n",
       "Relative Squared Error  0.2714686                            \n",
       "                        Gradient boosting machine regression\n",
       "R-Squared               0.8295276                           \n",
       "Mean Absolute Error     2.3240431                           \n",
       "Root Mean Squared Error 3.0026594                           \n",
       "Relative Absolute Error 0.3905955                           \n",
       "Relative Squared Error  0.1704724                           "
      ]
     },
     "metadata": {},
     "output_type": "display_data"
    }
   ],
   "source": [
    "iga_fortress.summary_df"
   ]
  },
  {
   "cell_type": "code",
   "execution_count": null,
   "metadata": {},
   "outputs": [],
   "source": []
  },
  {
   "cell_type": "markdown",
   "metadata": {},
   "source": [
    "## RandomForest"
   ]
  },
  {
   "cell_type": "code",
   "execution_count": null,
   "metadata": {},
   "outputs": [],
   "source": [
    "fit2 <- randomForest(sqrt(value)~inversion+wind+precip+fireworks,data=dat[!is.na(dat$pm2.5),], ntree=500)"
   ]
  },
  {
   "cell_type": "markdown",
   "metadata": {},
   "source": [
    "## TBATS \n",
    "TBATS model with weekly and yearly seasonality"
   ]
  },
  {
   "cell_type": "code",
   "execution_count": null,
   "metadata": {},
   "outputs": [],
   "source": [
    "# TBATS model with weekly and yearly seasonality\n",
    "dat.ts2 <- sqrt(msts(dat[!is.na(dat$pm2.5),\"pm2.5\"], seasonal.periods=c(7,365.25)))\n",
    "fit5 <- tbats(dat.ts2)\n",
    "fc5 <- forecast(fit5,h=30)"
   ]
  },
  {
   "cell_type": "markdown",
   "metadata": {},
   "source": [
    "## ARIMA \n",
    "ARIMA with weekly and yearly seasonality with regressors"
   ]
  },
  {
   "cell_type": "code",
   "execution_count": null,
   "metadata": {},
   "outputs": [],
   "source": [
    "# ARIMA with weekly and yearly seasonality with regressors\n",
    "regs <- dat[!is.na(dat$pm2.5),c(\"precip\",\"wind\",\"inversion\",\"fireworks\")]\n",
    "# Forecast weather regressors\n",
    "weather.ts <- msts(dat[,c(\"precip\",\"wind\",\"inversion_diff\")],seasonal.periods = c(7,365.25))\n",
    "precip <- auto.arima(weather.ts[,1])\n",
    "fprecip <- as.numeric(data.frame(forecast(precip,h=25))$Point.Forecast)\n",
    "wind <- auto.arima(weather.ts[,2])\n",
    "fwind <- as.numeric(data.frame(forecast(wind,h=25))$Point.Forecast)\n",
    "inversion <- auto.arima(weather.ts[,3])\n",
    "finversion <- as.numeric(data.frame(forecast(inversion,h=25))$Point.Forecast)\n",
    "\n",
    "fregs <- data.frame(precip=fprecip,wind=fwind,inversion=as.numeric(finversion<0),fireworks=0)\n",
    "\n",
    "# Seasonality\n",
    "z <- fourier(dat.ts2, K=c(2,5))\n",
    "zf <- fourier(dat.ts2, K=c(2,5), h=25)\n",
    "\n",
    "# Fit the model\n",
    "fit <- auto.arima(dat.ts2, xreg=cbind(z,regs), seasonal=FALSE)\n",
    "\n",
    "# Predict Future Values\n",
    "# This time we need future values of the regressors as well.\n",
    "fc <- forecast(fit, xreg=cbind(zf,fregs), h=25)"
   ]
  },
  {
   "cell_type": "markdown",
   "metadata": {},
   "source": [
    "## Prophet\n",
    "Prophet follows the sklearn model API. We create an instance of the Prophet class and then call its fit and predict methods.\n",
    "\n",
    "The input to Prophet is always a dataframe with two columns: ds and y. The ds (datestamp) column should be of a format expected by Pandas, ideally YYYY-MM-DD for a date or YYYY-MM-DD HH:MM:SS for a timestamp. The y column must be numeric, and represents the measurement we wish to forecast."
   ]
  },
  {
   "cell_type": "code",
   "execution_count": null,
   "metadata": {},
   "outputs": [],
   "source": [
    "pdat <- data.frame(ds=dat$date,\n",
    "                   y=sqrt(dat$pm2.5),\n",
    "                   precip=dat$precip,\n",
    "                   wind=dat$wind,\n",
    "                   inversion_diff=dat$inversion_diff,\n",
    "                   inversion=dat$inversion_,\n",
    "                   fireworks=dat$fireworks)\n",
    "\n",
    "# Forecast weather regressors\n",
    "pfdat <- data.frame(ds=max(dat$date) + 1:25)\n",
    "pprecip <- pdat %>% \n",
    "  select(ds,y=precip) %>% \n",
    "  prophet() %>%\n",
    "  predict(pfdat)\n",
    "\n",
    "pwind <- pdat %>% \n",
    "  select(ds,y=wind) %>% \n",
    "  prophet() %>%\n",
    "  predict(pfdat)\n",
    "\n",
    "pinversion <- pdat %>% \n",
    "  select(ds,y=inversion_diff) %>% \n",
    "  prophet() %>%\n",
    "  predict(pfdat)\n",
    "\n",
    "fdat <-  data.frame(ds=pfdat$ds,\n",
    "                    precip=pprecip$yhat,\n",
    "                    wind=pwind$yhat,\n",
    "                    inversion=as.numeric(pinversion$yhat<0),\n",
    "                    fireworks = 0)\n",
    "\n",
    "# Fit the model (Seasonality automatically determined)\n",
    "fit6 <- prophet() %>% \n",
    "  add_regressor('precip') %>% \n",
    "  add_regressor('wind') %>% \n",
    "  add_regressor('inversion') %>% \n",
    "  add_regressor('fireworks') %>% \n",
    "  fit.prophet(pdat)\n",
    "\n",
    "# Forecast future values\n",
    "forecast <- predict(fit6, fdat)\n",
    "\n",
    "# Get the residuals\n",
    "fpred <- predict(fit6)\n",
    "fpred$ds <- as.Date(fpred$ds)\n",
    "fpred <- pdat %>% left_join(fpred,by=\"ds\")\n",
    "fpred$resid <- fpred$y - fpred$yhat\n",
    "\n",
    "###########################################################################################\n",
    "library(timeDate)\n",
    "date.sequence <- timeSequence( min(fortress_forecast_df$ds), max(fortress_forecast_df$ds)) ;\n",
    "# holidays in the period\n",
    "years.included <- unique( as.integer( format( x=date.sequence, format=\"%Y\" ) ) );\n",
    "holidays <- holidayNYSE(years.included) \n",
    "# Subset business days\n",
    "notbusiness.days <- date.sequence[!(isBizday(date.sequence, holidays))]; \n",
    "\n",
    "library(dplyr)\n",
    "holiday_or_weekends <- data_frame(\n",
    "  holiday = 'holiday_or_weekends',\n",
    "  ds = as.Date(notbusiness.days),\n",
    "lower_window = 0,\n",
    "upper_window = 1\n",
    ")\n",
    "\n",
    "\n",
    "m <- prophet(fortress_forecast_df, holidays = holiday_or_weekends)\n",
    "forecast <- predict(m, future)\n",
    "forecast_plot<-plot(m, forecast)"
   ]
  },
  {
   "cell_type": "markdown",
   "metadata": {},
   "source": [
    "## Comparison"
   ]
  },
  {
   "cell_type": "code",
   "execution_count": null,
   "metadata": {},
   "outputs": [],
   "source": [
    "# RMSE by cutoff\n",
    "all.cv %>% \n",
    "  group_by(model,cutoff) %>% \n",
    "  summarise(rmse=sqrt(mean((y-yhat)^2))) %>% \n",
    "  ggplot(.,aes(x=cutoff,y=rmse,group=model,color=model)) +\n",
    "  geom_line(alpha=.75) + geom_point(alpha=.75)\n",
    "\n",
    "# RMSE by horizon\n",
    "all.cv %>% \n",
    "  group_by(model,day) %>% \n",
    "  summarise(rmse=sqrt(mean((y-yhat)^2))) %>% \n",
    "  ggplot(.,aes(x=day,y=rmse,group=model,color=model)) +\n",
    "  geom_line(alpha=.75) + geom_point(alpha=.75)\n",
    "\n",
    "# Prediction behaviors of different methods\n",
    "ggplot(all.cv,aes(date,yhat,group=as.factor(cutoff),color=as.factor(cutoff)))+\n",
    "  geom_line()+\n",
    "  geom_line(aes(y=y),color=\"black\",alpha=.15)+#geom_point(aes(y=y),color=\"black\",alpha=.15)+\n",
    "  facet_wrap(~model)+ guides(color=\"none\") +\n",
    "  theme(axis.title.x=element_blank(),\n",
    "        axis.text.x=element_blank(),\n",
    "        axis.ticks.x=element_blank())"
   ]
  }
 ],
 "metadata": {
  "kernelspec": {
   "display_name": "R",
   "language": "R",
   "name": "ir"
  },
  "language_info": {
   "codemirror_mode": "r",
   "file_extension": ".r",
   "mimetype": "text/x-r-source",
   "name": "R",
   "pygments_lexer": "r",
   "version": "3.5.1"
  }
 },
 "nbformat": 4,
 "nbformat_minor": 1
}
