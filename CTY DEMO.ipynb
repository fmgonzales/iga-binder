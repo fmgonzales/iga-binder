{
 "cells": [
  {
   "cell_type": "markdown",
   "metadata": {},
   "source": [
    "Simulation of Home Energy System Hourly Production\n",
    "---------------------------------------------------\n",
    "Visualization of the performance of a photovoltaic \n",
    "energy collection and storage system over the course of one year of operation on an hour-by-hour basis, based on a variety of parameters:\n",
    "\n",
    " - Geographic location\n",
    " - PV array size (in rated watts)\n",
    " - Battery bank size (in watt-hours)\n",
    " - Power usage (load) specification (constant, daytime, night time, or direct PV load)\n",
    "\n",
    "Using location-based data, the time series model then simulates one-year of \n",
    "operation of the described system, on an hour-by-hour basis. \n",
    "\n",
    "Limitations and assumptions:\n",
    "------------\n",
    "- The model is entirely based in simple power balancing. Losses due DC-DC conversion, transmission loss or power inversion are modeled with an efficiency coefficient on the panel side (`data.losses`), and not currently modeled between the battery and the loads. For now, DC-DC losses between the battery and the load should be taken account by increasing the load power specifications.\n",
    "- Related: a full battery charge/discharge curve isn't simulated in the state-of-charge integration. The SOC calculation does not take into account charge/discharge rate limitations or dynamics based on a specific battery chemistry.\n",
    "- The state of charge computed is NOT a percent of a nominal amp-hour rating (the usual definition of SOC), but of the user-set watt-hour value. \n",
    "- In a real-world setting, your effective solar line-of-sight may be limited due to objects on the horizon (trees, other structures, etc.) The NREL data, to my best understanding, is based on an assumption of unobstructed line-of-sight, which may not be the case especially at the very beginning and very end of the day where solar illumination is transitioning. However, I have included options for hard cut-off times to be set to model a real-world situation (see examples below).\n",
    "\n",
    "Technical details of many of these assumptions are provided in the PVWATTS manual:\n",
    "\n",
    "https://developer.nrel.gov/docs/solar/pvwatts-v5/\n",
    "\n",
    "Getting NREL data<a name=\"nrel_data\"></a>\n",
    "---------------------\n",
    "\n",
    "The NREL data is automatically parsed for the model based on the location and solar panel array parameters that are inputted, by making use of the [PVWATTS API](https://developer.nrel.gov/docs/solar/pvwatts-v5/).\n",
    "The model defaults to a demo API key that is presumably rate-limited. A free personal API key is available by signing up at: https://developer.nrel.gov/signup/\n",
    "\n",
    "Each time the model is run, the NREL servers will be queried for data. I am working on a simple caching scheme that will be used for optimization algorithms, or other operations which would be expected to run the model many times.\n",
    "\n",
    "NREL data also contains wind information that could potentially be used for wind turbine sizing for a hybrid solar-wind system in the future.\n",
    "\n",
    "Examples\n",
    "---------------\n",
    "Now we'll execute some working examples"
   ]
  },
  {
   "cell_type": "code",
   "execution_count": null,
   "metadata": {},
   "outputs": [],
   "source": [
    "# first, make the necessary imports\n",
    "import warnings\n",
    "warnings.filterwarnings(\"ignore\")\n",
    "\n",
    "fpath = \"C:\\\\Users\\\\gonzalf1\\\\Desktop\\\\solar_energy_calculator-master\\\\lib\"\n",
    "import sys\n",
    "sys.path.append(fpath)\n",
    "\n",
    "from openmdao.api import Problem\n",
    "from lib.basic import Basic\n",
    "from lib.make_plot import make_plot\n",
    "import pylab\n",
    "%matplotlib inline\n",
    "\n",
    "# now set up our model\n",
    "top = Problem()\n",
    "top.root = Basic()\n",
    "top.setup(check=False)\n",
    "\n",
    "# Set your NREL API key here:\n",
    "top.root.data.nrel_api_key = \"7tHdLEumwwP9noFGiMwSvYxs1h1dUfqofWIBxGTv\""
   ]
  },
  {
   "cell_type": "markdown",
   "metadata": {},
   "source": [
    "Model parameters\n",
    "------------------\n",
    "\n",
    "Below are an example of parameters that can be modified for a particular run.\n",
    "\n",
    "You can run this block to quickly reset all default values."
   ]
  },
  {
   "cell_type": "code",
   "execution_count": null,
   "metadata": {
    "collapsed": true
   },
   "outputs": [],
   "source": [
    "# location (address, zip, etc.) query string \n",
    "# (uses Google geo-location services)\n",
    "top.root.data.location = \"Santa Ana, California\"\n",
    "\n",
    "# cut off times for PV power due to shading (default: no cut-off (0, 23))\n",
    "top.root.data.start_time = 0\n",
    "top.root.data.end_time = 23\n",
    "\n",
    "\"\"\"\n",
    "LOAD SPECIFICATION\n",
    "\"\"\"\n",
    "# constant background power load (Watt)\n",
    "top['loads.P_constant'] = 0.0\n",
    "# night time only power load (Watt)\n",
    "top['loads.P_daytime'] = 0.0\n",
    "# day time only power load (Watt)\n",
    "top['loads.P_nighttime'] = 0.0\n",
    "# direct PV power load (Watt)\n",
    "top['loads.P_direct'] = 0.0\n",
    "# min. temp for direct PV power load (deg. F)\n",
    "top['loads.switch_temp'] = -1e99\n",
    "\n",
    "\"\"\"\n",
    "SYSTEM SPECIFICATION\n",
    "\"\"\"\n",
    "\n",
    "# Solar array types:\n",
    "# 0 = Fixed - Open Rack (default)\n",
    "# 1 = Fixed - Roof Mounted\n",
    "# 2 = Tracking 1-Axis \n",
    "# 3 = Tracking 1-Axis Backtracking\n",
    "# 4 = Tracking 2-Axis\n",
    "\n",
    "top.root.data.array_type = 0\n",
    "# Tilt of solar array (degrees, 0 = flat horizontal, 90 = vertical, default : 20)\n",
    "top['data.array_tilt'] = 20\n",
    "# General system losses (percentage of DC energy, default: 14)\n",
    "top['data.losses'] = 14\n",
    "# Rated power of solar array (Watt)\n",
    "top['des_vars.array_power'] = 0 \n",
    "# Battery power capacity (Watt-hr)\n",
    "top['des_vars.power_capacity'] = 0 # Watt-hours"
   ]
  },
  {
   "cell_type": "markdown",
   "metadata": {
    "collapsed": true
   },
   "source": [
    "There are a lot of tunable parameters here, so let's run a concrete example.\n",
    "\n",
    "Example: Tiny panel w/ LiPo battery and LED light\n",
    "-------------------------------------------------\n",
    "Consider setting up a [5.2 W panel](https://www.sparkfun.com/products/9241) with a [2000 mAh 3.7V LiPo battery](https://www.sparkfun.com/products/8483), controlled via a [small MPPT controller](https://www.sparkfun.com/products/12885). We'll plan to use this to power an LED that is measured to draw 0.1 W when powered by the full battery.\n",
    "\n",
    "So the power capacity of the battery is: 2Ah * 3.7V = 7.4 Wh, and we can run our model with the following settings:\n"
   ]
  },
  {
   "cell_type": "code",
   "execution_count": null,
   "metadata": {
    "collapsed": true
   },
   "outputs": [],
   "source": [
    "top.root.data.location = \"44256\"\n",
    "\n",
    "top['loads.P_constant'] = 0.1\n",
    "top['des_vars.array_power'] = 5.2 \n",
    "top['des_vars.power_capacity'] = 2*3.7\n",
    "\n",
    "# now actually run the model\n",
    "# should take only a few seconds. most of the time is spent getting the NREL data.\n",
    "top.run()\n",
    "\n",
    "# post-process and display results\n",
    "fig = make_plot(top)"
   ]
  },
  {
   "cell_type": "markdown",
   "metadata": {},
   "source": [
    "Interpretations:\n",
    "\n",
    "- Looking at summary information at the top: \n",
    "\t- The model predicts that the system, run continuously, will never discharge the LiPo battery below 79.9%, reached during the winter (as expected). \n",
    "\t- Over the simulated year, It is also noted that a total of 6kWh of energy can be collected by the panel in its location, with 5kWh net collectible (total collectible energy minus LED energy use). \n",
    "\t- This 5kWh is wasted in a certain sense, but that is a normal trade-off with battery-backup PV systems.\n",
    "\n",
    "- The first subplot (hourly power values) shows that we are unlikely to ever really get 5.2 W out of the panel. Over the course of the day, we get anywhere from 1 W to about 4 W. Also, the large amount of green (net) collectible energy shows that our load isn't using a large percentage of it most of the time during daylight hours.\n",
    "\n",
    "- The second subplot (daily energy totals) shows that we can collect from 5 to 30 Wh energy every day from the panel (blue trace). The red trace shows the total load energy used each day, a constant 2.4 Wh every day for our model.\n",
    "\n",
    "- The third subplot (ambient conditions) shows ambient temperature variation over the year, 0 to 100 F transition over the course of the year. This doesn't tell us much here, but future versions of this model will allow this to be taken into account for battery charge characteristics, temperature-dependent load specifications, etc. \n",
    "\n",
    "- The last subplot (battery SOC) shows that the battery SOC oscillates pretty regularly with the day-night cycles, with the night period being getting longer in the winter. Again, no major surprises here. \n",
    "\n",
    "Overall, not discharging the battery below about 80% is pretty good, and would preserve the life of the battery very well over time.\n",
    "\n",
    "Example: Tiny panel w/ LiPo battery and LED light V.2\n",
    "----------------------------------------------------\n",
    "Let's rerun the last example, but this time let's only run the LED at night, but run an [Arduino 3.3v Pro Mini](https://www.sparkfun.com/products/11114) constantly. I estimate that, powered by the LiPo battery, the Arduino will consume about 0.05 A * 3.7 V = 0.185 W.\n",
    "\n",
    "Let's also set the model to only count energy collected between 10am and 3pm (due to shadowing from trees around my area at dawn and dusk).\n",
    "\n",
    "We would then run:"
   ]
  },
  {
   "cell_type": "code",
   "execution_count": null,
   "metadata": {
    "collapsed": true
   },
   "outputs": [],
   "source": [
    "top.root.data.start_time = 10\n",
    "top.root.data.end_time = 15\n",
    "\n",
    "top['loads.P_constant'] = 0.05 * 3.7\n",
    "top['loads.P_nighttime'] = 0.1\n",
    "\n",
    "top.run()\n",
    "\n",
    "fig = make_plot(top)"
   ]
  },
  {
   "cell_type": "markdown",
   "metadata": {},
   "source": [
    "- The first subplot shows that the net hourly power generally dips further into the negative (during the night hours, naturally).\n",
    "\n",
    "- The second subplot shows that in the winter, the net power collected over each day (blue trace value minus the red trace value) is sometimes negative. The battery subplot (bottom) shows that on these days, the battery tends to be deeply discharged, as expected.\n",
    "\n",
    "- So overall, we see that while the panel can still technically collect 3 kWh more over the year than is consumed, the battery can no longer keep the system running continuously anymore due to collection and storage deficiencies during the winter months. Because of this, the battery reaches full discharge several times. \n",
    "\n",
    "- While it bounces back and recharges typically within a day in our model, in reality most batteries have a very hard time recovering from complete discharges:\n",
    "\t- To successfully design this as real-world hands-off system, we would need to re-run this model with higher panel wattages, greater battery capacities, or reducing load specifications until the depth of discharge is a more reasonable level. \n",
    "\t\n",
    "\t- A battery low-voltage disconnect (LVD) module should also be used as a backup measure to protect the battery from excessively deep discharging. An LVD could also be used in a case where the system doesn't really need to run continuously without any interruption, to simplify system design. But I tend to think of LVD like a fuse: something that should only operate as a contingency, and not as a normal part of operation."
   ]
  },
  {
   "cell_type": "markdown",
   "metadata": {},
   "source": [
    "Example: Solar water pump & night spotlight\n",
    "-------------------------------------------------------\n",
    "This example is the design of a solar water pumping station with a small night light.\n",
    "For this, a [30 W DC water pump](http://www.amazon.com/Diaphragm-Pressure-Automatic-Purifier-Pressurizer/dp/B015FL84GA) will be powered only when at least 30 W of solar power is collectable from the array (basically treated as a direct load), and only when the ambient temperature is greater than 32 Deg. F (0 C). A constant background draw of 0.5W will also be made for sensors and micro-electronics, and 4 W will be used to power a [small LED outdoor light](http://www.amazon.com/Mr-lamp-White-50watt-Equivalent-Spotlight/dp/B017K9E7BQ/ref=sr_1_26?s=hi&ie=UTF8&qid=1451772369&sr=1-26&keywords=4+watt+led+bulb) during night hours.\n",
    "\n",
    "Let's see if we can run this with a [100 W panel](http://www.amazon.com/Renogy-Watts-Volts-Monocrystalline-Solar/dp/B009Z6CW7O) and [12V, 35 Ah car battery](http://www.amazon.com/85980-D5722-Sealed-Battery-UB12350/dp/B001VV0318/ref=sr_1_1?ie=UTF8&qid=1451952230&sr=8-1&keywords=35+ah+battery) (12 V * 35 Ah = 420 Wh):"
   ]
  },
  {
   "cell_type": "code",
   "execution_count": null,
   "metadata": {
    "collapsed": true
   },
   "outputs": [],
   "source": [
    "# reset cut-off times to defaults\n",
    "top.root.data.start_time = 0\n",
    "top.root.data.end_time = 23\n",
    "\n",
    "top['loads.P_direct'] = 30.0\n",
    "top['loads.switch_temp'] = 32.0\n",
    "top['loads.P_constant'] = 0.5\n",
    "top['loads.P_nighttime'] = 4.0\n",
    "\n",
    "top['des_vars.array_power'] = 100 \n",
    "top['des_vars.power_capacity'] = 420\n",
    "\n",
    "top.run()\n",
    "\n",
    "fig = make_plot(top)"
   ]
  },
  {
   "cell_type": "markdown",
   "metadata": {},
   "source": [
    "Interpretation:\n",
    "\n",
    "- The black line in the second subplot shows when the direct-load pump comes on, which is a bit sporadic. It looks as though in the summer months, we get about 250 Wh worth of energy directed into the pump at the needed condition (30W PV available, > 32 degrees). Since at 30 W, the pump can move 3 liters per minute, or about 47 gallons per hour, this gives us  about 391 pumped gallons per day during summer. \n",
    "\n",
    "- In the winter, the pump is practically hibernated, with very intermittent operation. \n",
    "\n",
    "- We also see that we get a total of about 45 kWh powered to the pump over the course of the year, which corresponds to about 70,000 gallons of pumped water.\n",
    "\n",
    "- Battery SOC is not adversely affected by the daytime pump operation, and has an acceptable discharge depth of 80% occurring in the winter. \n",
    "\n",
    "- Experimenting with the model shows that SOC is much more sensitive to the constant background loads than the pump load level, since the system will not operate the pump unless the panel can support it directly. Thus, the pump operation largely bypasses the battery storage, but uses energy during the day at the expense of operating the light at night (via the battery). \n",
    "- Interestingly, for a fixed PV array and battery size, the directly load power level (the pump wattage) that maximizes total energy delivered to the pump over the year is not directly intuitive - setting it very low does not deliver as much cumulative energy, while setting it too high does not turn it on often enough to maximize delivered energy. For a 100W panel + 420 Wh battery, a 30W pump seems to have about the maximum annual energy you can put to use - around the 45 kWh collected in the example. \n",
    " \n",
    " - Exploring this a bit: \n",
    "     \n",
    "     "
   ]
  },
  {
   "cell_type": "code",
   "execution_count": null,
   "metadata": {
    "collapsed": true
   },
   "outputs": [],
   "source": [
    "# experimenting with different pump power levels\n",
    "for pump_power in [18, 30, 50]:\n",
    "    top['loads.P_direct'] = pump_power\n",
    "    top.run()\n",
    "    print top['loads.P_consumption_direct'].sum(), top['batteries.SOC'].min()"
   ]
  },
  {
   "cell_type": "markdown",
   "metadata": {},
   "source": [
    "     - with a 18W pump its 40 kWh over the year, with a 74% minimum battery SOC level\n",
    "\t  \n",
    "\t - with a 30W pump (same run above) its 48 kWh with 80% minimum SOC\n",
    "\t  \n",
    "\t - with a 50W pump you get 45 kWh , with 80% minimum SOC\n",
    "\n",
    "Assuming that the total amount of water that you can pump over a year is directly correlated to the total energy delivered to it, It's a pretty interesting design space with non-trivial constraints (especially when you consider practical battery charge and discharge limitations).\n",
    "\n",
    "Example: Whole-House residential grid-tie system\n",
    "-------------------------------------------------\n",
    "For this, a PV array will be sized to negate the electrical power usage of an average\n",
    "home. Battery SOC will be neglected, and it will be assumed that it is a grid-tie system.\n",
    "\n",
    "The average american home uses [about 911 kWh of energy per month](https://www.eia.gov/tools/faqs/faq.cfm?id=97&t=3). I'll bump this up to 1000 kWh to make it a nice round number.\n",
    "\n",
    "1000 kWh per month corresponds to about a constant power draw of 1370 W.\n",
    "Let's analyze the suitability of a 9.5 kilowatt residential PV system in my area: "
   ]
  },
  {
   "cell_type": "code",
   "execution_count": null,
   "metadata": {
    "collapsed": true
   },
   "outputs": [],
   "source": [
    "# resetting these back to defaults\n",
    "top['loads.P_direct'] = 0.0\n",
    "top['loads.P_nighttime'] = 0.0\n",
    "\n",
    "top['loads.P_constant'] = 1370\n",
    "\n",
    "top['des_vars.array_power'] = 9500\n",
    "top['des_vars.power_capacity'] = 1\n",
    "\n",
    "top.run()\n",
    "\n",
    "fig = make_plot(top)"
   ]
  },
  {
   "cell_type": "markdown",
   "metadata": {},
   "source": [
    "For this, the summary data at the top of the figure is probably the most informative: \n",
    "\n",
    "- A 9.5Kw allows this home to break even with their electrical usage, with a small estimated 608 kWh net surplus (collectible power - loads).\n",
    "- Unlike the other examples, any net surplus wattage amount is actually\n",
    "collected and used (in this case, transmitted to the power grid). If you oversize the array (say, with a 15kW system) you can see the amount of power that can be sold to the electric utility. \n",
    "- In the grid-tie setup, AC power from the grid effectively plays the role that the DC batteries played in the previous models. \n",
    "\n",
    "We also note in the daily summary (second subplot) that between November and March, the home would pull more energy from the grid than it delivers. For the rest of the year, it tends to deliver more to the grid than it receives (though this naturally has some oscillation).\n",
    "\n",
    "Of course, the practical issue of off-setting the initial investment is another kind of analysis. As I noted above, for my purposes I'm mostly interested in low power off-grid autonomous applications, but I do think the rough conclusions interpreted here are meaningful. For this kind of system, there are a variety of good calculator applications on the internet that can be used to help study trade-offs.\n",
    "\n",
    "Finally, you can use [the template notebook](template.ipynb) to run your own example cases without overwriting this example notebook."
   ]
  },
  {
   "cell_type": "code",
   "execution_count": null,
   "metadata": {
    "collapsed": true
   },
   "outputs": [],
   "source": []
  }
 ],
 "metadata": {
  "kernelspec": {
   "display_name": "Python 3",
   "language": "python",
   "name": "python3"
  },
  "language_info": {
   "codemirror_mode": {
    "name": "ipython",
    "version": 2
   },
   "file_extension": ".py",
   "mimetype": "text/x-python",
   "name": "python",
   "nbconvert_exporter": "python",
   "pygments_lexer": "ipython2",
   "version": "2.7.13"
  }
 },
 "nbformat": 4,
 "nbformat_minor": 1
}
